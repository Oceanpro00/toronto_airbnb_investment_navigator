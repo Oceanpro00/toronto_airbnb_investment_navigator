{
 "cells": [
  {
   "cell_type": "code",
   "execution_count": 1,
   "metadata": {},
   "outputs": [],
   "source": [
    "# Import dependencies\n",
    "import pandas as pd\n",
    "import numpy as np"
   ]
  },
  {
   "cell_type": "markdown",
   "metadata": {},
   "source": [
    "### Import and Display CSV"
   ]
  },
  {
   "cell_type": "code",
   "execution_count": 2,
   "metadata": {},
   "outputs": [
    {
     "name": "stderr",
     "output_type": "stream",
     "text": [
      "/var/folders/pt/863lyd297bx33mrhwt8gcp0h0000gn/T/ipykernel_29497/189113785.py:5: DtypeWarning: Columns (4) have mixed types. Specify dtype option on import or set low_memory=False.\n",
      "  calendar_csv = pd.read_csv(csv_filepath)\n"
     ]
    },
    {
     "data": {
      "application/vnd.microsoft.datawrangler.viewer.v0+json": {
       "columns": [
        {
         "name": "index",
         "rawType": "int64",
         "type": "integer"
        },
        {
         "name": "listing_id",
         "rawType": "int64",
         "type": "integer"
        },
        {
         "name": "date",
         "rawType": "object",
         "type": "string"
        },
        {
         "name": "available",
         "rawType": "object",
         "type": "string"
        },
        {
         "name": "price",
         "rawType": "object",
         "type": "string"
        },
        {
         "name": "adjusted_price",
         "rawType": "object",
         "type": "unknown"
        },
        {
         "name": "minimum_nights",
         "rawType": "int64",
         "type": "integer"
        },
        {
         "name": "maximum_nights",
         "rawType": "int64",
         "type": "integer"
        }
       ],
       "conversionMethod": "pd.DataFrame",
       "ref": "193f6da9-a7b5-4bd3-a606-6cac607ab4a6",
       "rows": [
        [
         "0",
         "1419",
         "2025-03-03",
         "f",
         "$469.00",
         null,
         "28",
         "730"
        ],
        [
         "1",
         "1419",
         "2025-03-04",
         "f",
         "$469.00",
         null,
         "28",
         "730"
        ],
        [
         "2",
         "1419",
         "2025-03-05",
         "f",
         "$469.00",
         null,
         "28",
         "730"
        ],
        [
         "3",
         "1419",
         "2025-03-06",
         "f",
         "$469.00",
         null,
         "28",
         "730"
        ],
        [
         "4",
         "1419",
         "2025-03-07",
         "f",
         "$469.00",
         null,
         "28",
         "730"
        ],
        [
         "5",
         "1419",
         "2025-03-08",
         "f",
         "$469.00",
         null,
         "28",
         "730"
        ],
        [
         "6",
         "1419",
         "2025-03-09",
         "f",
         "$469.00",
         null,
         "28",
         "730"
        ],
        [
         "7",
         "1419",
         "2025-03-10",
         "f",
         "$469.00",
         null,
         "28",
         "730"
        ],
        [
         "8",
         "1419",
         "2025-03-11",
         "f",
         "$469.00",
         null,
         "28",
         "730"
        ],
        [
         "9",
         "1419",
         "2025-03-12",
         "f",
         "$469.00",
         null,
         "28",
         "730"
        ],
        [
         "10",
         "1419",
         "2025-03-13",
         "f",
         "$469.00",
         null,
         "28",
         "730"
        ],
        [
         "11",
         "1419",
         "2025-03-14",
         "f",
         "$469.00",
         null,
         "28",
         "730"
        ],
        [
         "12",
         "1419",
         "2025-03-15",
         "f",
         "$469.00",
         null,
         "28",
         "730"
        ],
        [
         "13",
         "1419",
         "2025-03-16",
         "f",
         "$469.00",
         null,
         "28",
         "730"
        ],
        [
         "14",
         "1419",
         "2025-03-17",
         "f",
         "$469.00",
         null,
         "28",
         "730"
        ],
        [
         "15",
         "1419",
         "2025-03-18",
         "f",
         "$469.00",
         null,
         "28",
         "730"
        ],
        [
         "16",
         "1419",
         "2025-03-19",
         "f",
         "$469.00",
         null,
         "28",
         "730"
        ],
        [
         "17",
         "1419",
         "2025-03-20",
         "f",
         "$469.00",
         null,
         "28",
         "730"
        ],
        [
         "18",
         "1419",
         "2025-03-21",
         "f",
         "$469.00",
         null,
         "28",
         "730"
        ],
        [
         "19",
         "1419",
         "2025-03-22",
         "f",
         "$469.00",
         null,
         "28",
         "730"
        ],
        [
         "20",
         "1419",
         "2025-03-23",
         "f",
         "$469.00",
         null,
         "28",
         "730"
        ],
        [
         "21",
         "1419",
         "2025-03-24",
         "f",
         "$469.00",
         null,
         "28",
         "730"
        ],
        [
         "22",
         "1419",
         "2025-03-25",
         "f",
         "$469.00",
         null,
         "28",
         "730"
        ],
        [
         "23",
         "1419",
         "2025-03-26",
         "f",
         "$469.00",
         null,
         "28",
         "730"
        ],
        [
         "24",
         "1419",
         "2025-03-27",
         "f",
         "$469.00",
         null,
         "28",
         "730"
        ],
        [
         "25",
         "1419",
         "2025-03-28",
         "f",
         "$469.00",
         null,
         "28",
         "730"
        ],
        [
         "26",
         "1419",
         "2025-03-29",
         "f",
         "$469.00",
         null,
         "28",
         "730"
        ],
        [
         "27",
         "1419",
         "2025-03-30",
         "f",
         "$469.00",
         null,
         "28",
         "730"
        ],
        [
         "28",
         "1419",
         "2025-03-31",
         "f",
         "$469.00",
         null,
         "28",
         "730"
        ],
        [
         "29",
         "1419",
         "2025-04-01",
         "f",
         "$469.00",
         null,
         "28",
         "730"
        ],
        [
         "30",
         "1419",
         "2025-04-02",
         "f",
         "$469.00",
         null,
         "28",
         "730"
        ],
        [
         "31",
         "1419",
         "2025-04-03",
         "f",
         "$469.00",
         null,
         "28",
         "730"
        ],
        [
         "32",
         "1419",
         "2025-04-04",
         "f",
         "$469.00",
         null,
         "28",
         "730"
        ],
        [
         "33",
         "1419",
         "2025-04-05",
         "f",
         "$469.00",
         null,
         "28",
         "730"
        ],
        [
         "34",
         "1419",
         "2025-04-06",
         "f",
         "$469.00",
         null,
         "28",
         "730"
        ],
        [
         "35",
         "1419",
         "2025-04-07",
         "f",
         "$469.00",
         null,
         "28",
         "730"
        ],
        [
         "36",
         "1419",
         "2025-04-08",
         "f",
         "$469.00",
         null,
         "28",
         "730"
        ],
        [
         "37",
         "1419",
         "2025-04-09",
         "f",
         "$469.00",
         null,
         "28",
         "730"
        ],
        [
         "38",
         "1419",
         "2025-04-10",
         "f",
         "$469.00",
         null,
         "28",
         "730"
        ],
        [
         "39",
         "1419",
         "2025-04-11",
         "f",
         "$469.00",
         null,
         "28",
         "730"
        ],
        [
         "40",
         "1419",
         "2025-04-12",
         "f",
         "$469.00",
         null,
         "28",
         "730"
        ],
        [
         "41",
         "1419",
         "2025-04-13",
         "f",
         "$469.00",
         null,
         "28",
         "730"
        ],
        [
         "42",
         "1419",
         "2025-04-14",
         "f",
         "$469.00",
         null,
         "28",
         "730"
        ],
        [
         "43",
         "1419",
         "2025-04-15",
         "f",
         "$469.00",
         null,
         "28",
         "730"
        ],
        [
         "44",
         "1419",
         "2025-04-16",
         "f",
         "$469.00",
         null,
         "28",
         "730"
        ],
        [
         "45",
         "1419",
         "2025-04-17",
         "f",
         "$469.00",
         null,
         "28",
         "730"
        ],
        [
         "46",
         "1419",
         "2025-04-18",
         "f",
         "$469.00",
         null,
         "28",
         "730"
        ],
        [
         "47",
         "1419",
         "2025-04-19",
         "f",
         "$469.00",
         null,
         "28",
         "730"
        ],
        [
         "48",
         "1419",
         "2025-04-20",
         "f",
         "$469.00",
         null,
         "28",
         "730"
        ],
        [
         "49",
         "1419",
         "2025-04-21",
         "f",
         "$469.00",
         null,
         "28",
         "730"
        ]
       ],
       "shape": {
        "columns": 7,
        "rows": 7905917
       }
      },
      "text/html": [
       "<div>\n",
       "<style scoped>\n",
       "    .dataframe tbody tr th:only-of-type {\n",
       "        vertical-align: middle;\n",
       "    }\n",
       "\n",
       "    .dataframe tbody tr th {\n",
       "        vertical-align: top;\n",
       "    }\n",
       "\n",
       "    .dataframe thead th {\n",
       "        text-align: right;\n",
       "    }\n",
       "</style>\n",
       "<table border=\"1\" class=\"dataframe\">\n",
       "  <thead>\n",
       "    <tr style=\"text-align: right;\">\n",
       "      <th></th>\n",
       "      <th>listing_id</th>\n",
       "      <th>date</th>\n",
       "      <th>available</th>\n",
       "      <th>price</th>\n",
       "      <th>adjusted_price</th>\n",
       "      <th>minimum_nights</th>\n",
       "      <th>maximum_nights</th>\n",
       "    </tr>\n",
       "  </thead>\n",
       "  <tbody>\n",
       "    <tr>\n",
       "      <th>0</th>\n",
       "      <td>1419</td>\n",
       "      <td>2025-03-03</td>\n",
       "      <td>f</td>\n",
       "      <td>$469.00</td>\n",
       "      <td>NaN</td>\n",
       "      <td>28</td>\n",
       "      <td>730</td>\n",
       "    </tr>\n",
       "    <tr>\n",
       "      <th>1</th>\n",
       "      <td>1419</td>\n",
       "      <td>2025-03-04</td>\n",
       "      <td>f</td>\n",
       "      <td>$469.00</td>\n",
       "      <td>NaN</td>\n",
       "      <td>28</td>\n",
       "      <td>730</td>\n",
       "    </tr>\n",
       "    <tr>\n",
       "      <th>2</th>\n",
       "      <td>1419</td>\n",
       "      <td>2025-03-05</td>\n",
       "      <td>f</td>\n",
       "      <td>$469.00</td>\n",
       "      <td>NaN</td>\n",
       "      <td>28</td>\n",
       "      <td>730</td>\n",
       "    </tr>\n",
       "    <tr>\n",
       "      <th>3</th>\n",
       "      <td>1419</td>\n",
       "      <td>2025-03-06</td>\n",
       "      <td>f</td>\n",
       "      <td>$469.00</td>\n",
       "      <td>NaN</td>\n",
       "      <td>28</td>\n",
       "      <td>730</td>\n",
       "    </tr>\n",
       "    <tr>\n",
       "      <th>4</th>\n",
       "      <td>1419</td>\n",
       "      <td>2025-03-07</td>\n",
       "      <td>f</td>\n",
       "      <td>$469.00</td>\n",
       "      <td>NaN</td>\n",
       "      <td>28</td>\n",
       "      <td>730</td>\n",
       "    </tr>\n",
       "    <tr>\n",
       "      <th>...</th>\n",
       "      <td>...</td>\n",
       "      <td>...</td>\n",
       "      <td>...</td>\n",
       "      <td>...</td>\n",
       "      <td>...</td>\n",
       "      <td>...</td>\n",
       "      <td>...</td>\n",
       "    </tr>\n",
       "    <tr>\n",
       "      <th>7905912</th>\n",
       "      <td>1367402901303182875</td>\n",
       "      <td>2026-02-26</td>\n",
       "      <td>t</td>\n",
       "      <td>$110.00</td>\n",
       "      <td>NaN</td>\n",
       "      <td>28</td>\n",
       "      <td>365</td>\n",
       "    </tr>\n",
       "    <tr>\n",
       "      <th>7905913</th>\n",
       "      <td>1367402901303182875</td>\n",
       "      <td>2026-02-27</td>\n",
       "      <td>t</td>\n",
       "      <td>$110.00</td>\n",
       "      <td>NaN</td>\n",
       "      <td>28</td>\n",
       "      <td>365</td>\n",
       "    </tr>\n",
       "    <tr>\n",
       "      <th>7905914</th>\n",
       "      <td>1367402901303182875</td>\n",
       "      <td>2026-02-28</td>\n",
       "      <td>t</td>\n",
       "      <td>$110.00</td>\n",
       "      <td>NaN</td>\n",
       "      <td>28</td>\n",
       "      <td>365</td>\n",
       "    </tr>\n",
       "    <tr>\n",
       "      <th>7905915</th>\n",
       "      <td>1367402901303182875</td>\n",
       "      <td>2026-03-01</td>\n",
       "      <td>t</td>\n",
       "      <td>$110.00</td>\n",
       "      <td>NaN</td>\n",
       "      <td>28</td>\n",
       "      <td>365</td>\n",
       "    </tr>\n",
       "    <tr>\n",
       "      <th>7905916</th>\n",
       "      <td>1367402901303182875</td>\n",
       "      <td>2026-03-02</td>\n",
       "      <td>t</td>\n",
       "      <td>$110.00</td>\n",
       "      <td>NaN</td>\n",
       "      <td>28</td>\n",
       "      <td>365</td>\n",
       "    </tr>\n",
       "  </tbody>\n",
       "</table>\n",
       "<p>7905917 rows × 7 columns</p>\n",
       "</div>"
      ],
      "text/plain": [
       "                  listing_id        date available    price adjusted_price  \\\n",
       "0                       1419  2025-03-03         f  $469.00            NaN   \n",
       "1                       1419  2025-03-04         f  $469.00            NaN   \n",
       "2                       1419  2025-03-05         f  $469.00            NaN   \n",
       "3                       1419  2025-03-06         f  $469.00            NaN   \n",
       "4                       1419  2025-03-07         f  $469.00            NaN   \n",
       "...                      ...         ...       ...      ...            ...   \n",
       "7905912  1367402901303182875  2026-02-26         t  $110.00            NaN   \n",
       "7905913  1367402901303182875  2026-02-27         t  $110.00            NaN   \n",
       "7905914  1367402901303182875  2026-02-28         t  $110.00            NaN   \n",
       "7905915  1367402901303182875  2026-03-01         t  $110.00            NaN   \n",
       "7905916  1367402901303182875  2026-03-02         t  $110.00            NaN   \n",
       "\n",
       "         minimum_nights  maximum_nights  \n",
       "0                    28             730  \n",
       "1                    28             730  \n",
       "2                    28             730  \n",
       "3                    28             730  \n",
       "4                    28             730  \n",
       "...                 ...             ...  \n",
       "7905912              28             365  \n",
       "7905913              28             365  \n",
       "7905914              28             365  \n",
       "7905915              28             365  \n",
       "7905916              28             365  \n",
       "\n",
       "[7905917 rows x 7 columns]"
      ]
     },
     "execution_count": 2,
     "metadata": {},
     "output_type": "execute_result"
    }
   ],
   "source": [
    "# Filepath\n",
    "csv_filepath =  \"../../data/raw/calendar.csv\"\n",
    "\n",
    "# Read CSV\n",
    "calendar_csv = pd.read_csv(csv_filepath)\n",
    "\n",
    "# Display CSV\n",
    "calendar_csv"
   ]
  },
  {
   "cell_type": "code",
   "execution_count": 3,
   "metadata": {},
   "outputs": [
    {
     "data": {
      "application/vnd.microsoft.datawrangler.viewer.v0+json": {
       "columns": [
        {
         "name": "index",
         "rawType": "object",
         "type": "string"
        },
        {
         "name": "listing_id",
         "rawType": "float64",
         "type": "float"
        },
        {
         "name": "date",
         "rawType": "object",
         "type": "unknown"
        },
        {
         "name": "available",
         "rawType": "object",
         "type": "unknown"
        },
        {
         "name": "price",
         "rawType": "object",
         "type": "unknown"
        },
        {
         "name": "adjusted_price",
         "rawType": "object",
         "type": "unknown"
        },
        {
         "name": "minimum_nights",
         "rawType": "float64",
         "type": "float"
        },
        {
         "name": "maximum_nights",
         "rawType": "float64",
         "type": "float"
        }
       ],
       "conversionMethod": "pd.DataFrame",
       "ref": "ecc7e44d-074c-4efa-b5c8-d3b927ceda22",
       "rows": [
        [
         "count",
         "7905917.0",
         "7905917",
         "7905917",
         "7905917",
         "3283",
         "7905917.0",
         "7905917.0"
        ],
        [
         "unique",
         null,
         "367",
         "2",
         "646",
         "11",
         null,
         null
        ],
        [
         "top",
         null,
         "2025-09-02",
         "f",
         "$150.00",
         "$1,300.00",
         null,
         null
        ],
        [
         "freq",
         null,
         "21660",
         "4440532",
         "273386",
         "671",
         null,
         null
        ],
        [
         "mean",
         "6.162725225574797e+17",
         null,
         null,
         null,
         null,
         "25.376628163437587",
         "99730.02616470677"
        ],
        [
         "std",
         "5.341003333985636e+17",
         null,
         null,
         null,
         null,
         "40.898373379620246",
         "14591167.942599637"
        ],
        [
         "min",
         "1419.0",
         null,
         null,
         null,
         null,
         "1.0",
         "1.0"
        ],
        [
         "25%",
         "33851393.0",
         null,
         null,
         null,
         null,
         "3.0",
         "200.0"
        ],
        [
         "50%",
         "7.727698593988544e+17",
         null,
         null,
         null,
         null,
         "28.0",
         "365.0"
        ],
        [
         "75%",
         "1.1234143542300735e+18",
         null,
         null,
         null,
         null,
         "28.0",
         "1125.0"
        ],
        [
         "max",
         "1.3674029013031828e+18",
         null,
         null,
         null,
         null,
         "1125.0",
         "2147483647.0"
        ]
       ],
       "shape": {
        "columns": 7,
        "rows": 11
       }
      },
      "text/html": [
       "<div>\n",
       "<style scoped>\n",
       "    .dataframe tbody tr th:only-of-type {\n",
       "        vertical-align: middle;\n",
       "    }\n",
       "\n",
       "    .dataframe tbody tr th {\n",
       "        vertical-align: top;\n",
       "    }\n",
       "\n",
       "    .dataframe thead th {\n",
       "        text-align: right;\n",
       "    }\n",
       "</style>\n",
       "<table border=\"1\" class=\"dataframe\">\n",
       "  <thead>\n",
       "    <tr style=\"text-align: right;\">\n",
       "      <th></th>\n",
       "      <th>listing_id</th>\n",
       "      <th>date</th>\n",
       "      <th>available</th>\n",
       "      <th>price</th>\n",
       "      <th>adjusted_price</th>\n",
       "      <th>minimum_nights</th>\n",
       "      <th>maximum_nights</th>\n",
       "    </tr>\n",
       "  </thead>\n",
       "  <tbody>\n",
       "    <tr>\n",
       "      <th>count</th>\n",
       "      <td>7.905917e+06</td>\n",
       "      <td>7905917</td>\n",
       "      <td>7905917</td>\n",
       "      <td>7905917</td>\n",
       "      <td>3283</td>\n",
       "      <td>7.905917e+06</td>\n",
       "      <td>7.905917e+06</td>\n",
       "    </tr>\n",
       "    <tr>\n",
       "      <th>unique</th>\n",
       "      <td>NaN</td>\n",
       "      <td>367</td>\n",
       "      <td>2</td>\n",
       "      <td>646</td>\n",
       "      <td>11</td>\n",
       "      <td>NaN</td>\n",
       "      <td>NaN</td>\n",
       "    </tr>\n",
       "    <tr>\n",
       "      <th>top</th>\n",
       "      <td>NaN</td>\n",
       "      <td>2025-09-02</td>\n",
       "      <td>f</td>\n",
       "      <td>$150.00</td>\n",
       "      <td>$1,300.00</td>\n",
       "      <td>NaN</td>\n",
       "      <td>NaN</td>\n",
       "    </tr>\n",
       "    <tr>\n",
       "      <th>freq</th>\n",
       "      <td>NaN</td>\n",
       "      <td>21660</td>\n",
       "      <td>4440532</td>\n",
       "      <td>273386</td>\n",
       "      <td>671</td>\n",
       "      <td>NaN</td>\n",
       "      <td>NaN</td>\n",
       "    </tr>\n",
       "    <tr>\n",
       "      <th>mean</th>\n",
       "      <td>6.162725e+17</td>\n",
       "      <td>NaN</td>\n",
       "      <td>NaN</td>\n",
       "      <td>NaN</td>\n",
       "      <td>NaN</td>\n",
       "      <td>2.537663e+01</td>\n",
       "      <td>9.973003e+04</td>\n",
       "    </tr>\n",
       "    <tr>\n",
       "      <th>std</th>\n",
       "      <td>5.341003e+17</td>\n",
       "      <td>NaN</td>\n",
       "      <td>NaN</td>\n",
       "      <td>NaN</td>\n",
       "      <td>NaN</td>\n",
       "      <td>4.089837e+01</td>\n",
       "      <td>1.459117e+07</td>\n",
       "    </tr>\n",
       "    <tr>\n",
       "      <th>min</th>\n",
       "      <td>1.419000e+03</td>\n",
       "      <td>NaN</td>\n",
       "      <td>NaN</td>\n",
       "      <td>NaN</td>\n",
       "      <td>NaN</td>\n",
       "      <td>1.000000e+00</td>\n",
       "      <td>1.000000e+00</td>\n",
       "    </tr>\n",
       "    <tr>\n",
       "      <th>25%</th>\n",
       "      <td>3.385139e+07</td>\n",
       "      <td>NaN</td>\n",
       "      <td>NaN</td>\n",
       "      <td>NaN</td>\n",
       "      <td>NaN</td>\n",
       "      <td>3.000000e+00</td>\n",
       "      <td>2.000000e+02</td>\n",
       "    </tr>\n",
       "    <tr>\n",
       "      <th>50%</th>\n",
       "      <td>7.727699e+17</td>\n",
       "      <td>NaN</td>\n",
       "      <td>NaN</td>\n",
       "      <td>NaN</td>\n",
       "      <td>NaN</td>\n",
       "      <td>2.800000e+01</td>\n",
       "      <td>3.650000e+02</td>\n",
       "    </tr>\n",
       "    <tr>\n",
       "      <th>75%</th>\n",
       "      <td>1.123414e+18</td>\n",
       "      <td>NaN</td>\n",
       "      <td>NaN</td>\n",
       "      <td>NaN</td>\n",
       "      <td>NaN</td>\n",
       "      <td>2.800000e+01</td>\n",
       "      <td>1.125000e+03</td>\n",
       "    </tr>\n",
       "    <tr>\n",
       "      <th>max</th>\n",
       "      <td>1.367403e+18</td>\n",
       "      <td>NaN</td>\n",
       "      <td>NaN</td>\n",
       "      <td>NaN</td>\n",
       "      <td>NaN</td>\n",
       "      <td>1.125000e+03</td>\n",
       "      <td>2.147484e+09</td>\n",
       "    </tr>\n",
       "  </tbody>\n",
       "</table>\n",
       "</div>"
      ],
      "text/plain": [
       "          listing_id        date available    price adjusted_price  \\\n",
       "count   7.905917e+06     7905917   7905917  7905917           3283   \n",
       "unique           NaN         367         2      646             11   \n",
       "top              NaN  2025-09-02         f  $150.00      $1,300.00   \n",
       "freq             NaN       21660   4440532   273386            671   \n",
       "mean    6.162725e+17         NaN       NaN      NaN            NaN   \n",
       "std     5.341003e+17         NaN       NaN      NaN            NaN   \n",
       "min     1.419000e+03         NaN       NaN      NaN            NaN   \n",
       "25%     3.385139e+07         NaN       NaN      NaN            NaN   \n",
       "50%     7.727699e+17         NaN       NaN      NaN            NaN   \n",
       "75%     1.123414e+18         NaN       NaN      NaN            NaN   \n",
       "max     1.367403e+18         NaN       NaN      NaN            NaN   \n",
       "\n",
       "        minimum_nights  maximum_nights  \n",
       "count     7.905917e+06    7.905917e+06  \n",
       "unique             NaN             NaN  \n",
       "top                NaN             NaN  \n",
       "freq               NaN             NaN  \n",
       "mean      2.537663e+01    9.973003e+04  \n",
       "std       4.089837e+01    1.459117e+07  \n",
       "min       1.000000e+00    1.000000e+00  \n",
       "25%       3.000000e+00    2.000000e+02  \n",
       "50%       2.800000e+01    3.650000e+02  \n",
       "75%       2.800000e+01    1.125000e+03  \n",
       "max       1.125000e+03    2.147484e+09  "
      ]
     },
     "execution_count": 3,
     "metadata": {},
     "output_type": "execute_result"
    }
   ],
   "source": [
    "# Describe the Dataset\n",
    "calendar_csv.describe(include='all')"
   ]
  },
  {
   "cell_type": "code",
   "execution_count": 4,
   "metadata": {},
   "outputs": [
    {
     "data": {
      "text/plain": [
       "listing_id         int64\n",
       "date              object\n",
       "available         object\n",
       "price             object\n",
       "adjusted_price    object\n",
       "minimum_nights     int64\n",
       "maximum_nights     int64\n",
       "dtype: object"
      ]
     },
     "execution_count": 4,
     "metadata": {},
     "output_type": "execute_result"
    }
   ],
   "source": [
    "calendar_csv.dtypes"
   ]
  },
  {
   "cell_type": "code",
   "execution_count": 5,
   "metadata": {},
   "outputs": [],
   "source": [
    "# fix datatypes\n",
    "calendar_csv['available'] = calendar_csv['available'].map({'t':1, 'f':0}).astype('int64')\n",
    "calendar_csv['price'] = calendar_csv['price'].str.replace('$', '').str.replace(',', '').astype('float')\n",
    "calendar_csv['adjusted_price'] = calendar_csv['adjusted_price'].str.replace('$', '').str.replace(',', '').astype('float')"
   ]
  },
  {
   "cell_type": "code",
   "execution_count": 6,
   "metadata": {},
   "outputs": [
    {
     "data": {
      "text/plain": [
       "listing_id          int64\n",
       "date               object\n",
       "available           int64\n",
       "price             float64\n",
       "adjusted_price    float64\n",
       "minimum_nights      int64\n",
       "maximum_nights      int64\n",
       "dtype: object"
      ]
     },
     "execution_count": 6,
     "metadata": {},
     "output_type": "execute_result"
    }
   ],
   "source": [
    "calendar_csv.dtypes"
   ]
  },
  {
   "cell_type": "markdown",
   "metadata": {},
   "source": [
    "### Basic Analysis\n",
    "- The Calendar dataset is remarkably clean with the same number of rows in all columns except of the adjusted_price bracket which is expected as most listing would only increase price on certain holidays if even. \n",
    "    - The incredibly low number of adjusted days does though suggest that we may want to remove the column altogether for the sake of the ML algorithm as the data disparity is almost too large. "
   ]
  },
  {
   "cell_type": "markdown",
   "metadata": {},
   "source": [
    "### **Aggregating listing based features**"
   ]
  },
  {
   "cell_type": "code",
   "execution_count": 7,
   "metadata": {},
   "outputs": [
    {
     "data": {
      "application/vnd.microsoft.datawrangler.viewer.v0+json": {
       "columns": [
        {
         "name": "index",
         "rawType": "int64",
         "type": "integer"
        },
        {
         "name": "listing_id",
         "rawType": "int64",
         "type": "integer"
        },
        {
         "name": "availability_rate",
         "rawType": "float64",
         "type": "float"
        },
        {
         "name": "mean_price",
         "rawType": "float64",
         "type": "float"
        },
        {
         "name": "min_nights_median",
         "rawType": "float64",
         "type": "float"
        },
        {
         "name": "max_nights_median",
         "rawType": "float64",
         "type": "float"
        },
        {
         "name": "first_date",
         "rawType": "object",
         "type": "string"
        },
        {
         "name": "last_date",
         "rawType": "object",
         "type": "string"
        }
       ],
       "conversionMethod": "pd.DataFrame",
       "ref": "e6bdc850-9b8a-4757-8479-c8d1fb90c563",
       "rows": [
        [
         "0",
         "1419",
         "0.0",
         "469.0",
         "28.0",
         "730.0",
         "2025-03-03",
         "2026-03-02"
        ],
        [
         "1",
         "8077",
         "0.0",
         "75.0",
         "180.0",
         "365.0",
         "2025-03-03",
         "2026-03-02"
        ],
        [
         "2",
         "26654",
         "0.33972602739726027",
         "114.0",
         "28.0",
         "1125.0",
         "2025-03-03",
         "2026-03-02"
        ],
        [
         "3",
         "27423",
         "0.0",
         "75.0",
         "365.0",
         "365.0",
         "2025-03-03",
         "2026-03-02"
        ],
        [
         "4",
         "30931",
         "0.0",
         "100.0",
         "180.0",
         "365.0",
         "2025-03-03",
         "2026-03-02"
        ],
        [
         "5",
         "40456",
         "0.9972602739726028",
         "150.0",
         "750.0",
         "1125.0",
         "2025-03-03",
         "2026-03-02"
        ],
        [
         "6",
         "40701",
         "0.18356164383561643",
         "70.0",
         "28.0",
         "90.0",
         "2025-03-02",
         "2026-03-01"
        ],
        [
         "7",
         "44452",
         "1.0",
         "125.0",
         "28.0",
         "365.0",
         "2025-03-03",
         "2026-03-02"
        ],
        [
         "8",
         "45399",
         "1.0",
         "150.0",
         "28.0",
         "1100.0",
         "2025-03-03",
         "2026-03-02"
        ],
        [
         "9",
         "45893",
         "1.0",
         "90.0",
         "28.0",
         "1125.0",
         "2025-03-03",
         "2026-03-02"
        ],
        [
         "10",
         "50110",
         "0.8383561643835616",
         "169.0",
         "28.0",
         "1100.0",
         "2025-03-03",
         "2026-03-02"
        ],
        [
         "11",
         "51616",
         "0.0",
         "55.0",
         "91.0",
         "125.0",
         "2025-03-03",
         "2026-03-02"
        ],
        [
         "12",
         "62545",
         "1.0",
         "50.0",
         "90.0",
         "365.0",
         "2025-03-03",
         "2026-03-02"
        ],
        [
         "13",
         "64635",
         "1.0",
         "50.0",
         "120.0",
         "365.0",
         "2025-03-03",
         "2026-03-02"
        ],
        [
         "14",
         "64641",
         "0.8356164383561644",
         "50.0",
         "120.0",
         "365.0",
         "2025-03-02",
         "2026-03-01"
        ],
        [
         "15",
         "64645",
         "0.42191780821917807",
         "60.0",
         "90.0",
         "366.0",
         "2025-03-03",
         "2026-03-02"
        ],
        [
         "16",
         "66856",
         "0.7698630136986301",
         "50.0",
         "90.0",
         "365.0",
         "2025-03-04",
         "2026-03-03"
        ],
        [
         "17",
         "84151",
         "1.0",
         "160.0",
         "30.0",
         "1100.0",
         "2025-03-03",
         "2026-03-02"
        ],
        [
         "18",
         "96336",
         "0.09041095890410959",
         "329.0",
         "4.0",
         "30.0",
         "2025-03-03",
         "2026-03-02"
        ],
        [
         "19",
         "112842",
         "0.07945205479452055",
         "56.0",
         "120.0",
         "1125.0",
         "2025-03-03",
         "2026-03-02"
        ],
        [
         "20",
         "119441",
         "0.8410958904109589",
         "125.0",
         "150.0",
         "360.0",
         "2025-03-03",
         "2026-03-02"
        ],
        [
         "21",
         "131401",
         "0.5178082191780822",
         "72.0",
         "120.0",
         "380.0",
         "2025-03-03",
         "2026-03-02"
        ],
        [
         "22",
         "146601",
         "0.336986301369863",
         "250.0",
         "28.0",
         "1125.0",
         "2025-03-03",
         "2026-03-02"
        ],
        [
         "23",
         "153000",
         "0.2328767123287671",
         "299.0",
         "2.0",
         "1125.0",
         "2025-03-03",
         "2026-03-02"
        ],
        [
         "24",
         "154743",
         "0.663013698630137",
         "70.0",
         "60.0",
         "600.0",
         "2025-03-03",
         "2026-03-02"
        ],
        [
         "25",
         "179578",
         "0.0",
         "80.0",
         "28.0",
         "31.0",
         "2025-03-03",
         "2026-03-02"
        ],
        [
         "26",
         "184784",
         "0.9972602739726028",
         "295.0",
         "180.0",
         "730.0",
         "2025-03-03",
         "2026-03-02"
        ],
        [
         "27",
         "186342",
         "0.473972602739726",
         "200.0",
         "30.0",
         "365.0",
         "2025-03-03",
         "2026-03-02"
        ],
        [
         "28",
         "192335",
         "0.0",
         "235.0",
         "28.0",
         "1125.0",
         "2025-03-03",
         "2026-03-02"
        ],
        [
         "29",
         "192860",
         "0.3780821917808219",
         "120.0",
         "185.0",
         "500.0",
         "2025-03-03",
         "2026-03-02"
        ],
        [
         "30",
         "196584",
         "0.8958904109589041",
         "92.0",
         "18.0",
         "365.0",
         "2025-03-04",
         "2026-03-03"
        ],
        [
         "31",
         "207206",
         "0.9945205479452055",
         "300.0",
         "28.0",
         "1125.0",
         "2025-03-02",
         "2026-03-01"
        ],
        [
         "32",
         "224775",
         "0.6082191780821918",
         "80.0",
         "28.0",
         "162.0",
         "2025-03-03",
         "2026-03-02"
        ],
        [
         "33",
         "228568",
         "0.1178082191780822",
         "300.0",
         "5.0",
         "365.0",
         "2025-03-03",
         "2026-03-02"
        ],
        [
         "34",
         "232794",
         "0.7342465753424657",
         "215.0",
         "28.0",
         "365.0",
         "2025-03-03",
         "2026-03-02"
        ],
        [
         "35",
         "239449",
         "0.7287671232876712",
         "90.0",
         "28.0",
         "365.0",
         "2025-03-03",
         "2026-03-02"
        ],
        [
         "36",
         "248933",
         "0.07123287671232877",
         "54.0",
         "28.0",
         "365.0",
         "2025-03-03",
         "2026-03-02"
        ],
        [
         "37",
         "248940",
         "0.2465753424657534",
         "53.0",
         "28.0",
         "1125.0",
         "2025-03-03",
         "2026-03-02"
        ],
        [
         "38",
         "251549",
         "0.0",
         "60.0",
         "28.0",
         "90.0",
         "2025-03-03",
         "2026-03-02"
        ],
        [
         "39",
         "266300",
         "0.0",
         "105.0",
         "30.0",
         "182.0",
         "2025-03-03",
         "2026-03-02"
        ],
        [
         "40",
         "269355",
         "0.0",
         "150.0",
         "28.0",
         "365.0",
         "2025-03-03",
         "2026-03-02"
        ],
        [
         "41",
         "273304",
         "0.0",
         "133.0",
         "28.0",
         "365.0",
         "2025-03-03",
         "2026-03-02"
        ],
        [
         "42",
         "288341",
         "0.9315068493150684",
         "250.0",
         "5.0",
         "365.0",
         "2025-03-03",
         "2026-03-02"
        ],
        [
         "43",
         "291699",
         "0.23013698630136986",
         "280.0",
         "28.0",
         "150.0",
         "2025-03-03",
         "2026-03-02"
        ],
        [
         "44",
         "307726",
         "0.7424657534246575",
         "100.0",
         "28.0",
         "1124.0",
         "2025-03-03",
         "2026-03-02"
        ],
        [
         "45",
         "314459",
         "0.0",
         "31.0",
         "28.0",
         "1125.0",
         "2025-03-03",
         "2026-03-02"
        ],
        [
         "46",
         "325432",
         "0.0",
         "260.0",
         "28.0",
         "50.0",
         "2025-03-03",
         "2026-03-02"
        ],
        [
         "47",
         "361557",
         "0.9972602739726028",
         "140.0",
         "750.0",
         "1125.0",
         "2025-03-03",
         "2026-03-02"
        ],
        [
         "48",
         "361831",
         "0.0",
         "140.0",
         "28.0",
         "365.0",
         "2025-03-03",
         "2026-03-02"
        ],
        [
         "49",
         "366973",
         "0.9808219178082191",
         "350.0",
         "28.0",
         "112.0",
         "2025-03-03",
         "2026-03-02"
        ]
       ],
       "shape": {
        "columns": 7,
        "rows": 21660
       }
      },
      "text/html": [
       "<div>\n",
       "<style scoped>\n",
       "    .dataframe tbody tr th:only-of-type {\n",
       "        vertical-align: middle;\n",
       "    }\n",
       "\n",
       "    .dataframe tbody tr th {\n",
       "        vertical-align: top;\n",
       "    }\n",
       "\n",
       "    .dataframe thead th {\n",
       "        text-align: right;\n",
       "    }\n",
       "</style>\n",
       "<table border=\"1\" class=\"dataframe\">\n",
       "  <thead>\n",
       "    <tr style=\"text-align: right;\">\n",
       "      <th></th>\n",
       "      <th>listing_id</th>\n",
       "      <th>availability_rate</th>\n",
       "      <th>mean_price</th>\n",
       "      <th>min_nights_median</th>\n",
       "      <th>max_nights_median</th>\n",
       "      <th>first_date</th>\n",
       "      <th>last_date</th>\n",
       "    </tr>\n",
       "  </thead>\n",
       "  <tbody>\n",
       "    <tr>\n",
       "      <th>0</th>\n",
       "      <td>1419</td>\n",
       "      <td>0.000000</td>\n",
       "      <td>469.0</td>\n",
       "      <td>28.0</td>\n",
       "      <td>730.0</td>\n",
       "      <td>2025-03-03</td>\n",
       "      <td>2026-03-02</td>\n",
       "    </tr>\n",
       "    <tr>\n",
       "      <th>1</th>\n",
       "      <td>8077</td>\n",
       "      <td>0.000000</td>\n",
       "      <td>75.0</td>\n",
       "      <td>180.0</td>\n",
       "      <td>365.0</td>\n",
       "      <td>2025-03-03</td>\n",
       "      <td>2026-03-02</td>\n",
       "    </tr>\n",
       "    <tr>\n",
       "      <th>2</th>\n",
       "      <td>26654</td>\n",
       "      <td>0.339726</td>\n",
       "      <td>114.0</td>\n",
       "      <td>28.0</td>\n",
       "      <td>1125.0</td>\n",
       "      <td>2025-03-03</td>\n",
       "      <td>2026-03-02</td>\n",
       "    </tr>\n",
       "    <tr>\n",
       "      <th>3</th>\n",
       "      <td>27423</td>\n",
       "      <td>0.000000</td>\n",
       "      <td>75.0</td>\n",
       "      <td>365.0</td>\n",
       "      <td>365.0</td>\n",
       "      <td>2025-03-03</td>\n",
       "      <td>2026-03-02</td>\n",
       "    </tr>\n",
       "    <tr>\n",
       "      <th>4</th>\n",
       "      <td>30931</td>\n",
       "      <td>0.000000</td>\n",
       "      <td>100.0</td>\n",
       "      <td>180.0</td>\n",
       "      <td>365.0</td>\n",
       "      <td>2025-03-03</td>\n",
       "      <td>2026-03-02</td>\n",
       "    </tr>\n",
       "    <tr>\n",
       "      <th>...</th>\n",
       "      <td>...</td>\n",
       "      <td>...</td>\n",
       "      <td>...</td>\n",
       "      <td>...</td>\n",
       "      <td>...</td>\n",
       "      <td>...</td>\n",
       "      <td>...</td>\n",
       "    </tr>\n",
       "    <tr>\n",
       "      <th>21655</th>\n",
       "      <td>1366954101885217722</td>\n",
       "      <td>0.158904</td>\n",
       "      <td>80.0</td>\n",
       "      <td>28.0</td>\n",
       "      <td>90.0</td>\n",
       "      <td>2025-03-03</td>\n",
       "      <td>2026-03-02</td>\n",
       "    </tr>\n",
       "    <tr>\n",
       "      <th>21656</th>\n",
       "      <td>1366970333908472070</td>\n",
       "      <td>0.986301</td>\n",
       "      <td>221.0</td>\n",
       "      <td>2.0</td>\n",
       "      <td>365.0</td>\n",
       "      <td>2025-03-03</td>\n",
       "      <td>2026-03-02</td>\n",
       "    </tr>\n",
       "    <tr>\n",
       "      <th>21657</th>\n",
       "      <td>1366999672978459092</td>\n",
       "      <td>0.997260</td>\n",
       "      <td>150.0</td>\n",
       "      <td>28.0</td>\n",
       "      <td>365.0</td>\n",
       "      <td>2025-03-04</td>\n",
       "      <td>2026-03-03</td>\n",
       "    </tr>\n",
       "    <tr>\n",
       "      <th>21658</th>\n",
       "      <td>1367290343089381102</td>\n",
       "      <td>0.997260</td>\n",
       "      <td>90.0</td>\n",
       "      <td>4.0</td>\n",
       "      <td>1125.0</td>\n",
       "      <td>2025-03-04</td>\n",
       "      <td>2026-03-03</td>\n",
       "    </tr>\n",
       "    <tr>\n",
       "      <th>21659</th>\n",
       "      <td>1367402901303182875</td>\n",
       "      <td>0.890411</td>\n",
       "      <td>110.0</td>\n",
       "      <td>28.0</td>\n",
       "      <td>365.0</td>\n",
       "      <td>2025-03-03</td>\n",
       "      <td>2026-03-02</td>\n",
       "    </tr>\n",
       "  </tbody>\n",
       "</table>\n",
       "<p>21660 rows × 7 columns</p>\n",
       "</div>"
      ],
      "text/plain": [
       "                listing_id  availability_rate  mean_price  min_nights_median  \\\n",
       "0                     1419           0.000000       469.0               28.0   \n",
       "1                     8077           0.000000        75.0              180.0   \n",
       "2                    26654           0.339726       114.0               28.0   \n",
       "3                    27423           0.000000        75.0              365.0   \n",
       "4                    30931           0.000000       100.0              180.0   \n",
       "...                    ...                ...         ...                ...   \n",
       "21655  1366954101885217722           0.158904        80.0               28.0   \n",
       "21656  1366970333908472070           0.986301       221.0                2.0   \n",
       "21657  1366999672978459092           0.997260       150.0               28.0   \n",
       "21658  1367290343089381102           0.997260        90.0                4.0   \n",
       "21659  1367402901303182875           0.890411       110.0               28.0   \n",
       "\n",
       "       max_nights_median  first_date   last_date  \n",
       "0                  730.0  2025-03-03  2026-03-02  \n",
       "1                  365.0  2025-03-03  2026-03-02  \n",
       "2                 1125.0  2025-03-03  2026-03-02  \n",
       "3                  365.0  2025-03-03  2026-03-02  \n",
       "4                  365.0  2025-03-03  2026-03-02  \n",
       "...                  ...         ...         ...  \n",
       "21655               90.0  2025-03-03  2026-03-02  \n",
       "21656              365.0  2025-03-03  2026-03-02  \n",
       "21657              365.0  2025-03-04  2026-03-03  \n",
       "21658             1125.0  2025-03-04  2026-03-03  \n",
       "21659              365.0  2025-03-03  2026-03-02  \n",
       "\n",
       "[21660 rows x 7 columns]"
      ]
     },
     "execution_count": 7,
     "metadata": {},
     "output_type": "execute_result"
    }
   ],
   "source": [
    "# Feature engineering for each listing\n",
    "listing_summary = calendar_csv.groupby('listing_id').agg(\n",
    "    availability_rate=('available', 'mean'),\n",
    "    mean_price=('price', 'mean'),\n",
    "    min_nights_median=('minimum_nights', 'median'),\n",
    "    max_nights_median=('maximum_nights', 'median'),\n",
    "    first_date=('date', 'min'),\n",
    "    last_date=('date', 'max'),\n",
    ").reset_index()\n",
    "\n",
    "listing_summary"
   ]
  },
  {
   "cell_type": "markdown",
   "metadata": {},
   "source": [
    "### Calendar Data Analysis\n",
    "- I just realized that this calendar data is not a historical representation of airbnb booking data but rather a 1 year forecast thus making this data inherently unstable as it is bound to change throughout the year.\n",
    "    - at most this dataset can be used to potray airbnb pricing trend strategies thus allowing us to see what type of properties tend to benefit fom increasing or decreasing prices through the year (expectantly on holidays or low seasons)\n",
    "    - or if later used as the target in a supervised model, it may be able to be used to make an analysis that looks to answer what features allow airbnb listings to be booked well in advance"
   ]
  }
 ],
 "metadata": {
  "kernelspec": {
   "display_name": "dev",
   "language": "python",
   "name": "python3"
  },
  "language_info": {
   "codemirror_mode": {
    "name": "ipython",
    "version": 3
   },
   "file_extension": ".py",
   "mimetype": "text/x-python",
   "name": "python",
   "nbconvert_exporter": "python",
   "pygments_lexer": "ipython3",
   "version": "3.10.15"
  }
 },
 "nbformat": 4,
 "nbformat_minor": 2
}
