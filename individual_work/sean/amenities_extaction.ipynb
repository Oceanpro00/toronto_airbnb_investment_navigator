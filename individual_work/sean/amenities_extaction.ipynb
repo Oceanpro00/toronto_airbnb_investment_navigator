{
 "cells": [
  {
   "cell_type": "code",
   "execution_count": 1,
   "metadata": {},
   "outputs": [],
   "source": [
    "# Import dependencies\n",
    "import pandas as pd\n",
    "import ast                          # importing abstract syntax tree to allow the parsing of string based lists as lists  "
   ]
  },
  {
   "cell_type": "markdown",
   "metadata": {},
   "source": [
    "### **Import and Limit CSV**"
   ]
  },
  {
   "cell_type": "code",
   "execution_count": 2,
   "metadata": {},
   "outputs": [
    {
     "data": {
      "application/vnd.microsoft.datawrangler.viewer.v0+json": {
       "columns": [
        {
         "name": "index",
         "rawType": "int64",
         "type": "integer"
        },
        {
         "name": "id",
         "rawType": "int64",
         "type": "integer"
        },
        {
         "name": "amenities",
         "rawType": "object",
         "type": "string"
        }
       ],
       "conversionMethod": "pd.DataFrame",
       "ref": "f2d45325-c3c4-4db3-83d5-03e99dc5fa3b",
       "rows": [
        [
         "0",
         "696407278180533419",
         "[\"Hair dryer\", \"Central heating\", \"Paid parking garage on premises\", \"Shampoo\", \"Iron\", \"Microwave\", \"Central air conditioning\", \"TV\", \"Cooking basics\", \"Essentials\", \"Kitchen\", \"Free dryer \\u2013 In unit\", \"Hangers\", \"Free washer \\u2013 In unit\", \"Exercise equipment\", \"Freezer\", \"Dishes and silverware\", \"Cleaning products\", \"Wifi\"]"
        ],
        [
         "1",
         "696457318817239920",
         "[\"Hair dryer\", \"Central heating\", \"Shampoo\", \"Lock on bedroom door\", \"Stove\", \"Body soap\", \"Bed linens\", \"Smoke alarm\", \"Microwave\", \"Dining table\", \"Central air conditioning\", \"Cooking basics\", \"Hot water kettle\", \"Luggage dropoff allowed\", \"Toaster\", \"Essentials\", \"Portable fans\", \"Kitchen\", \"Shower gel\", \"Hangers\", \"Drying rack for clothing\", \"Refrigerator\", \"Lockbox\", \"Self check-in\", \"Hot water\", \"Freezer\", \"Dishes and silverware\", \"Dedicated workspace\", \"Fire extinguisher\", \"Cleaning products\", \"Carbon monoxide alarm\", \"Wifi\"]"
        ],
        [
         "2",
         "696460661218975906",
         "[\"Hair dryer\", \"Central heating\", \"Shampoo\", \"Lock on bedroom door\", \"Stove\", \"Bed linens\", \"Air conditioning\", \"Smoke alarm\", \"Microwave\", \"Dining table\", \"Cooking basics\", \"Hot water kettle\", \"Luggage dropoff allowed\", \"Toaster\", \"Essentials\", \"Kitchen\", \"Shower gel\", \"Hangers\", \"Drying rack for clothing\", \"Refrigerator\", \"Lockbox\", \"Self check-in\", \"Hot water\", \"Freezer\", \"Dishes and silverware\", \"Dedicated workspace\", \"Fire extinguisher\", \"Cleaning products\", \"Carbon monoxide alarm\", \"Wifi\"]"
        ],
        [
         "3",
         "696602542310304703",
         "[\"Hair dryer\", \"Room-darkening shades\", \"Keypad\", \"Shared patio or balcony\", \"Clothing storage: closet and wardrobe\", \"Central heating\", \"Shampoo\", \"Safe\", \"Iron\", \"Body soap\", \"Bed linens\", \"Children\\u2019s dinnerware\", \"Smoke alarm\", \"Garden view\", \"Books and reading material\", \"Central air conditioning\", \"Microwave\", \"Wine glasses\", \"Baking sheet\", \"TV\", \"Dining table\", \"Paid parking lot on premises\", \"Cooking basics\", \"Hot water kettle\", \"Coffee\", \"Luggage dropoff allowed\", \"Private entrance\", \"Extra pillows and blankets\", \"First aid kit\", \"Frigidaire refrigerator\", \"Toaster\", \"Shared backyard \\u2013 Fully fenced\", \"Gas stove\", \"Essentials\", \"Free street parking\", \"Kitchen\", \"Shower gel\", \"Pack \\u2019n play/Travel crib\", \"Indoor fireplace: electric\", \"Oven\", \"Blender\", \"Hangers\", \"Drying rack for clothing\", \"Children\\u2019s books and toys\", \"Fast wifi \\u2013 329 Mbps\", \"Free washer \\u2013 In unit\", \"Self check-in\", \"Outdoor furniture\", \"Fire pit\", \"Conditioner\", \"Coffee maker: drip coffee maker\", \"Hot water\", \"City skyline view\", \"Freezer\", \"Paid street parking off premises\", \"Sound system\", \"Dedicated workspace\", \"Dishes and silverware\", \"Pets allowed\", \"Portable heater\", \"Fire extinguisher\", \"Outdoor dining area\", \"Long term stays allowed\", \"Barbecue utensils\", \"Cleaning products\", \"Carbon monoxide alarm\", \"BBQ grill\", \"Free dryer \\u2013 In unit\"]"
        ],
        [
         "4",
         "696638535490228478",
         "[\"Pool table\", \"Dedicated workspace\", \"Exercise equipment\", \"Hot tub\", \"Paid parking on premises\", \"Air conditioning\", \"Kitchen\", \"Wifi\", \"Smoke alarm\", \"BBQ grill\", \"Washer\", \"Pool\", \"TV\"]"
        ],
        [
         "5",
         "696973520016945803",
         "[\"Hair dryer\", \"Heating\", \"Shampoo\", \"Body soap\", \"Rice maker\", \"Air conditioning\", \"Coffee maker\", \"Backyard\", \"Smoke alarm\", \"Dishwasher\", \"Garden view\", \"Microwave\", \"Dining table\", \"Single level home\", \"Wine glasses\", \"Cooking basics\", \"Hot water kettle\", \"Coffee\", \"Luggage dropoff allowed\", \"Private entrance\", \"First aid kit\", \"Toaster\", \"Essentials\", \"Free street parking\", \"Kitchen\", \"Indoor fireplace: gas\", \"Refrigerator\", \"Stainless steel oven\", \"Outdoor furniture\", \"Hot water\", \"Freezer\", \"Dishes and silverware\", \"Dedicated workspace\", \"Long term stays allowed\", \"Electric stove\", \"Cleaning products\", \"Carbon monoxide alarm\", \"Wifi\", \"24 inch TV with Roku\"]"
        ],
        [
         "6",
         "697004718610327555",
         "[\"Room-darkening shades\", \"Keypad\", \"Elevator\", \"Central heating\", \"Mosquito net\", \"Shampoo\", \"Private patio or balcony\", \"Body soap\", \"Bathtub\", \"Bed linens\", \"Coffee maker\", \"Outdoor playground\", \"Smoke alarm\", \"Dishwasher\", \"Microwave\", \"Dining table\", \"Central air conditioning\", \"Wifi\", \"Wine glasses\", \"65 inch HDTV\", \"Baking sheet\", \"Lake access\", \"Cooking basics\", \"Hot water kettle\", \"Window guards\", \"Coffee\", \"Private entrance\", \"Extra pillows and blankets\", \"First aid kit\", \"Toaster\", \"Essentials\", \"Kitchen\", \"Shower gel\", \"Oven\", \"Hangers\", \"Refrigerator\", \"Free parking garage on premises\", \"Self check-in\", \"Outdoor furniture\", \"Conditioner\", \"Hot water\", \"Freezer\", \"Washer\", \"Dishes and silverware\", \"Private BBQ grill\", \"Fire extinguisher\", \"Outdoor dining area\", \"Long term stays allowed\", \"Clothing storage: closet\", \"Electric stove\", \"Cleaning products\", \"Carbon monoxide alarm\", \"Free dryer \\u2013 In unit\", \"Private backyard \\u2013 Fully fenced\"]"
        ],
        [
         "7",
         "697013674104755196",
         "[\"Hair dryer\", \"Room-darkening shades\", \"Heating\", \"Shampoo\", \"Iron\", \"Body soap\", \"Bed linens\", \"Air conditioning\", \"Coffee maker\", \"Backyard\", \"Smoke alarm\", \"Dishwasher\", \"Microwave\", \"Stainless steel induction stove\", \"Dining table\", \"Laundromat nearby\", \"Wine glasses\", \"EV charger\", \"Dryer\", \"Patio or balcony\", \"Clothing storage\", \"Cooking basics\", \"Hot water kettle\", \"Coffee\", \"Private entrance\", \"Exterior security cameras on property\", \"Toaster\", \"Essentials\", \"Portable fans\", \"Kitchen\", \"Shower gel\", \"Oven\", \"Blender\", \"Hangers\", \"50 inch HDTV with Netflix\", \"Refrigerator\", \"Smart lock\", \"Self check-in\", \"Outdoor furniture\", \"Free parking on premises\", \"Conditioner\", \"Hot water\", \"Freezer\", \"Washer\", \"Dishes and silverware\", \"Dedicated workspace\", \"Fire extinguisher\", \"Outdoor dining area\", \"Long term stays allowed\", \"Cleaning products\", \"Carbon monoxide alarm\", \"Wifi\"]"
        ],
        [
         "8",
         "26654",
         "[\"Hair dryer\", \"Room-darkening shades\", \"Elevator\", \"Heating\", \"Shampoo\", \"Shared sauna\", \"Iron\", \"Rice maker\", \"Bathtub\", \"Bed linens\", \"Children\\u2019s dinnerware\", \"Coffee maker\", \"Smoke alarm\", \"Dishwasher\", \"Microwave\", \"Books and reading material\", \"Central air conditioning\", \"Wifi\", \"Wine glasses\", \"Baking sheet\", \"Dining table\", \"Patio or balcony\", \"Clothing storage\", \"Cooking basics\", \"Hot water kettle\", \"Luggage dropoff allowed\", \"Private entrance\", \"Housekeeping available 4 days a week - available at extra cost\", \"Extra pillows and blankets\", \"Toaster\", \"Essentials\", \"Portable fans\", \"Kitchen\", \"Shower gel\", \"Oven\", \"Blender\", \"Paid parking on premises\", \"Hangers\", \"Refrigerator\", \"Shared gym in building\", \"Loreal conditioner\", \"Building staff\", \"Free washer \\u2013 In unit\", \"Exercise equipment\", \"Self check-in\", \"Outdoor furniture\", \"Pets allowed\", \"Hot water\", \"City skyline view\", \"Freezer\", \"Dishes and silverware\", \"Dedicated workspace\", \"Fire extinguisher\", \"Long term stays allowed\", \"Electric stove\", \"Babysitter recommendations\", \"Single level home\", \"Cleaning products\", \"Private hot tub\", \"Carbon monoxide alarm\", \"TV with standard cable\", \"Shared BBQ grill: charcoal\", \"Free dryer \\u2013 In unit\", \"Shared pool - available all year\"]"
        ],
        [
         "9",
         "40701",
         "[\"Hair dryer\", \"Room-darkening shades\", \"Keypad\", \"Ceiling fan\", \"Ethernet connection\", \"Central heating\", \"Private patio or balcony\", \"Iron\", \"Body soap\", \"Bathtub\", \"Bed linens\", \"Stove\", \"Coffee maker\", \"Smoke alarm\", \"Dishwasher\", \"Garden view\", \"Books and reading material\", \"Central air conditioning\", \"Wifi\", \"Microwave\", \"Wine glasses\", \"Baking sheet\", \"Dining table\", \"Shared beach access\", \"Clothing storage\", \"Radiant heating\", \"Cooking basics\", \"Hot water kettle\", \"Private entrance\", \"Luggage dropoff allowed\", \"Extra pillows and blankets\", \"Toaster\", \"Essentials\", \"Kitchen\", \"Oven\", \"Blender\", \"Hangers\", \"Drying rack for clothing\", \"Refrigerator\", \"Free washer \\u2013 In unit\", \"Self check-in\", \"Outdoor furniture\", \"Free parking on premises\", \"Hot water\", \"Freezer\", \"Paid street parking off premises\", \"Dishes and silverware\", \"Dedicated workspace\", \"Paid parking lot on premises \\u2013 1 space\", \"Courtyard view\", \"Portable heater\", \"32 inch HDTV with Netflix, standard cable\", \"Outdoor dining area\", \"Long term stays allowed\", \"Cleaning products\", \"Window AC unit\", \"Free dryer \\u2013 In unit\"]"
        ],
        [
         "10",
         "44452",
         "[\"Hair dryer\", \"Keypad\", \"Heating\", \"Shampoo\", \"Iron\", \"Stove\", \"Air conditioning\", \"Smoke alarm\", \"Microwave\", \"Dryer\", \"Cooking basics\", \"Essentials\", \"Free street parking\", \"Kitchen\", \"Oven\", \"Hangers\", \"Refrigerator\", \"Self check-in\", \"Hot water\", \"Paid parking off premises\", \"Washer\", \"Dishes and silverware\", \"Dedicated workspace\", \"Long term stays allowed\", \"Carbon monoxide alarm\", \"TV with standard cable\", \"Wifi\"]"
        ],
        [
         "11",
         "45399",
         "[\"Hair dryer\", \"Keypad\", \"Cleaning available during stay\", \"Elevator\", \"Heating\", \"Shampoo\", \"Iron\", \"Stove\", \"Bathtub\", \"Bed linens\", \"Air conditioning\", \"Single level home\", \"Smoke alarm\", \"Microwave\", \"27 inch TV\", \"Dryer\", \"Cooking basics\", \"Paid parking garage off premises\", \"Private entrance\", \"Toaster\", \"Essentials\", \"Kitchen\", \"Oven\", \"Hangers\", \"Refrigerator\", \"Self check-in\", \"Coffee maker: drip coffee maker\", \"Hot water\", \"Washer\", \"Dishes and silverware\", \"Dedicated workspace\", \"Long term stays allowed\", \"Clothing storage: closet\", \"Cleaning products\", \"Carbon monoxide alarm\", \"Gym\", \"Wifi\"]"
        ],
        [
         "12",
         "45893",
         "[\"Hair dryer\", \"Keypad\", \"Elevator\", \"Heating\", \"Shampoo\", \"Iron\", \"Stove\", \"Air conditioning\", \"Coffee maker\", \"Smoke alarm\", \"Microwave\", \"Dryer\", \"Cooking basics\", \"Essentials\", \"Kitchen\", \"Oven\", \"Hangers\", \"Refrigerator\", \"Self check-in\", \"Washer\", \"Dishes and silverware\", \"Dedicated workspace\", \"Carbon monoxide alarm\", \"TV with standard cable\", \"Wifi\"]"
        ],
        [
         "13",
         "50110",
         "[\"Hair dryer\", \"Elevator\", \"Heating\", \"Paid parking garage on premises\", \"Host greets you\", \"Shampoo\", \"Iron\", \"Stove\", \"Bathtub\", \"Air conditioning\", \"Coffee maker\", \"Smoke alarm\", \"Dishwasher\", \"Microwave\", \"TV\", \"Dryer\", \"Patio or balcony\", \"Cooking basics\", \"Private entrance\", \"Essentials\", \"Kitchen\", \"Oven\", \"Hangers\", \"Refrigerator\", \"Hot water\", \"Washer\", \"Dishes and silverware\", \"Dedicated workspace\", \"Cleaning products\", \"Carbon monoxide alarm\", \"Gym\", \"Wifi\"]"
        ],
        [
         "14",
         "697045300656398535",
         "[\"Hair dryer\", \"Room-darkening shades\", \"Cleaning available during stay\", \"Elevator\", \"Central heating\", \"Shampoo\", \"Private patio or balcony\", \"Iron\", \"Body soap\", \"Bathtub\", \"Bed linens\", \"Air conditioning\", \"Stove\", \"Smoke alarm\", \"Dishwasher\", \"Microwave\", \"Coffee maker\", \"Dining table\", \"Wifi\", \"Wine glasses\", \"Lake access\", \"TV\", \"Cooking basics\", \"Hot water kettle\", \"Coffee\", \"Bay view\", \"Extra pillows and blankets\", \"Toaster\", \"Essentials\", \"Kitchen\", \"Oven\", \"Paid parking on premises\", \"Hangers\", \"Drying rack for clothing\", \"Refrigerator\", \"Free washer \\u2013 In unit\", \"Conditioner\", \"Hot water\", \"City skyline view\", \"Freezer\", \"Waterfront\", \"Dishes and silverware\", \"Dedicated workspace\", \"Long term stays allowed\", \"Clothing storage: closet\", \"Crib - available upon request\", \"Single level home\", \"Cleaning products\", \"Carbon monoxide alarm\", \"Free dryer \\u2013 In unit\"]"
        ],
        [
         "15",
         "697084075296771389",
         "[\"Hair dryer\", \"Room-darkening shades\", \"Elevator\", \"Host greets you\", \"Central heating\", \"Shampoo\", \"Private patio or balcony\", \"Iron\", \"Body soap\", \"Bathtub\", \"Bed linens\", \"Stove\", \"Coffee maker\", \"Smoke alarm\", \"Dishwasher\", \"Microwave\", \"Rice maker\", \"Central air conditioning\", \"Wifi\", \"Wine glasses\", \"Dining table\", \"Cooking basics\", \"Hot water kettle\", \"Coffee\", \"Extra pillows and blankets\", \"First aid kit\", \"Toaster\", \"Essentials\", \"Kitchen\", \"Shower gel\", \"Pack \\u2019n play/Travel crib\", \"Hangers\", \"Drying rack for clothing\", \"Refrigerator\", \"Stainless steel oven\", \"Free washer \\u2013 In unit\", \"Free parking on premises\", \"Conditioner\", \"Pets allowed\", \"Hot water\", \"Freezer\", \"Dishes and silverware\", \"Dedicated workspace\", \"43 inch HDTV with Amazon Prime Video, Netflix, Roku\", \"EV charger\", \"Crib\", \"Cleaning products\", \"Carbon monoxide alarm\", \"Free dryer \\u2013 In unit\"]"
        ],
        [
         "16",
         "697092422783840251",
         "[\"Hair dryer\", \"Keypad\", \"Heating\", \"Shampoo\", \"Lock on bedroom door\", \"Iron\", \"Body soap\", \"Bed linens\", \"Smoke alarm\", \"Books and reading material\", \"Smoking allowed\", \"Clothing storage\", \"Cooking basics\", \"Hot water kettle\", \"Coffee\", \"Luggage dropoff allowed\", \"First aid kit\", \"Essentials\", \"Kitchen\", \"Hangers\", \"Induction stove\", \"Refrigerator\", \"Self check-in\", \"Conditioner\", \"Coffee maker: drip coffee maker\", \"Hot water\", \"Free dryer \\u2013 In building\", \"Washer\", \"Dishes and silverware\", \"Dedicated workspace\", \"Long term stays allowed\", \"Cleaning products\", \"Carbon monoxide alarm\", \"Wifi\"]"
        ],
        [
         "17",
         "697177315863595052",
         "[\"Hair dryer\", \"Room-darkening shades\", \"Keypad\", \"Shared patio or balcony\", \"Heating\", \"Shampoo\", \"40 inch HDTV with Roku\", \"Record player\", \"Iron\", \"Body soap\", \"Bed linens\", \"Lock on bedroom door\", \"Coffee maker\", \"Smoke alarm\", \"Dishwasher\", \"Microwave\", \"Books and reading material\", \"Central air conditioning\", \"Baking sheet\", \"Wine glasses\", \"Dining table\", \"Free washer \\u2013 In building\", \"Laundromat nearby\", \"Cooking basics\", \"Hot water kettle\", \"Coffee\", \"Luggage dropoff allowed\", \"Extra pillows and blankets\", \"First aid kit\", \"Exterior security cameras on property\", \"Toaster\", \"Shared backyard \\u2013 Fully fenced\", \"Essentials\", \"Clothing storage: dresser\", \"Portable fans\", \"Shower gel\", \"Kitchen\", \"Indoor fireplace: electric\", \"Oven\", \"Blender\", \"Hangers\", \"Drying rack for clothing\", \"Refrigerator\", \"Self check-in\", \"Outdoor furniture\", \"Conditioner\", \"Hot water\", \"Free dryer \\u2013 In building\", \"Freezer\", \"Paid street parking off premises\", \"Dishes and silverware\", \"Dedicated workspace\", \"Fire extinguisher\", \"Outdoor dining area\", \"Long term stays allowed\", \"Cleaning products\", \"GE stainless steel induction stove\", \"Carbon monoxide alarm\", \"Fast wifi \\u2013 281 Mbps\"]"
        ],
        [
         "18",
         "62545",
         "[\"Heating\", \"Air conditioning\", \"Indoor fireplace\", \"Wifi\", \"TV with standard cable\", \"Kitchen\", \"Backyard\", \"Hot water\", \"Washer\", \"Dryer\"]"
        ],
        [
         "19",
         "64635",
         "[\"Ceiling fan\", \"Heating\", \"Lock on bedroom door\", \"Air conditioning\", \"Kitchen\", \"Wifi\", \"Smoke alarm\", \"Washer\", \"Dryer\"]"
        ],
        [
         "20",
         "64641",
         "[\"Hair dryer\", \"Fire extinguisher\", \"Heating\", \"Lock on bedroom door\", \"Iron\", \"Essentials\", \"Bed linens\", \"Air conditioning\", \"Carbon monoxide alarm\", \"TV with standard cable\", \"Smoke alarm\", \"Wifi\", \"Hot water\", \"Kitchen\", \"Washer\", \"Hangers\", \"Dryer\"]"
        ],
        [
         "21",
         "64645",
         "[\"Heating\", \"Air conditioning\", \"Indoor fireplace\", \"Carbon monoxide alarm\", \"Smoke alarm\", \"Wifi\", \"Kitchen\", \"Hot water\", \"Washer\", \"Dryer\"]"
        ],
        [
         "22",
         "66856",
         "[\"Fire extinguisher\", \"Heating\", \"Lock on bedroom door\", \"Air conditioning\", \"Carbon monoxide alarm\", \"Wifi\", \"TV with standard cable\", \"Smoke alarm\", \"Kitchen\", \"Washer\", \"Dryer\"]"
        ],
        [
         "23",
         "84151",
         "[\"Elevator\", \"Heating\", \"Paid parking garage on premises\", \"Host greets you\", \"Shampoo\", \"Safe\", \"Iron\", \"Body soap\", \"Bathtub\", \"Bed linens\", \"Single level home\", \"Smoke alarm\", \"Garden view\", \"Microwave\", \"Dryer\", \"Cooking basics\", \"Private entrance\", \"Essentials\", \"Kitchen\", \"Shower gel\", \"Oven\", \"Hangers\", \"Refrigerator\", \"Shared pool\", \"Coffee maker: drip coffee maker\", \"Hot water\", \"City skyline view\", \"Washer\", \"Dishes and silverware\", \"Dedicated workspace\", \"Courtyard view\", \"Long term stays allowed\", \"Clothing storage: closet\", \"Electric stove\", \"Cleaning products\", \"Carbon monoxide alarm\", \"TV with standard cable\", \"Window AC unit\", \"Wifi\"]"
        ],
        [
         "24",
         "96336",
         "[\"Hair dryer\", \"Room-darkening shades\", \"Ceiling fan\", \"Shampoo\", \"Private patio or balcony\", \"Iron\", \"Body soap\", \"Bathtub\", \"Bed linens\", \"Rice maker\", \"Smoke alarm\", \"Dishwasher\", \"Garden view\", \"Books and reading material\", \"Microwave\", \"Board games\", \"Wifi\", \"Wine glasses\", \"Baking sheet\", \"Dining table\", \"Radiant heating\", \"Cooking basics\", \"Hot water kettle\", \"Coffee\", \"Private entrance\", \"Luggage dropoff allowed\", \"Extra pillows and blankets\", \"HDTV with Amazon Prime Video, Netflix, premium cable, Apple TV\", \"Exterior security cameras on property\", \"Toaster\", \"Essentials\", \"Portable fans\", \"Kitchen\", \"Shower gel\", \"Alexa Bluetooth sound system\", \"Coffee maker: drip coffee maker, french press\", \"Hangers\", \"Private BBQ grill: gas\", \"Drying rack for clothing\", \"Refrigerator\", \"Stainless steel oven\", \"Free driveway parking on premises \\u2013 1 space\", \"Lockbox\", \"Free washer \\u2013 In unit\", \"Clothing storage: closet and dresser\", \"Self check-in\", \"Outdoor furniture\", \"KitchenAid stainless steel gas stove\", \"Conditioner\", \"Hot water\", \"Freezer\", \"Dishes and silverware\", \"Portable air conditioning\", \"Dedicated workspace\", \"Fire extinguisher\", \"Heating - split type ductless system\", \"Outdoor dining area\", \"Long term stays allowed\", \"AC - split type ductless system\", \"Barbecue utensils\", \"Cleaning products\", \"Carbon monoxide alarm\", \"Free dryer \\u2013 In unit\", \"Private backyard \\u2013 Fully fenced\"]"
        ],
        [
         "25",
         "697254839940218097",
         "[\"Hair dryer\", \"Room-darkening shades\", \"Bikes\", \"Elevator\", \"Host greets you\", \"Central heating\", \"Paid parking garage on premises\", \"Shampoo\", \"46 inch HDTV with Roku\", \"Shared sauna\", \"Iron\", \"Body soap\", \"Bathtub\", \"Bed linens\", \"Coffee maker\", \"Smoke alarm\", \"Dishwasher\", \"Microwave\", \"Books and reading material\", \"Central air conditioning\", \"Wifi\", \"Wine glasses\", \"Baking sheet\", \"Dining table\", \"Pool table\", \"Patio or balcony\", \"Cooking basics\", \"Hot water kettle\", \"Stainless steel electric stove\", \"Exterior security cameras on property\", \"Toaster\", \"Essentials\", \"Kitchen\", \"Shower gel\", \"Hangers\", \"Children\\u2019s books and toys\", \"Refrigerator\", \"Stainless steel oven\", \"Shared gym in building\", \"Exercise equipment\", \"Free washer \\u2013 In unit\", \"Shared pool\", \"Hot water\", \"Freezer\", \"Dishes and silverware\", \"Dedicated workspace\", \"Shared hot tub\", \"Outdoor dining area\", \"Long term stays allowed\", \"Clothing storage: closet\", \"Cleaning products\", \"BBQ grill\", \"Free dryer \\u2013 In unit\"]"
        ],
        [
         "26",
         "697409795001326631",
         "[\"Hair dryer\", \"Keypad\", \"Mini fridge\", \"Central heating\", \"Shampoo\", \"Safe\", \"Lock on bedroom door\", \"Iron\", \"Body soap\", \"Bathtub\", \"Smoke alarm\", \"Dining table\", \"Central air conditioning\", \"Free washer \\u2013 In building\", \"43 inch HDTV with Netflix\", \"Cooking basics\", \"Hot water kettle\", \"Extra pillows and blankets\", \"First aid kit\", \"Exterior security cameras on property\", \"Essentials\", \"Kitchen\", \"Shower gel\", \"Hangers\", \"Private living room\", \"Refrigerator\", \"Self check-in\", \"Conditioner\", \"Hot water\", \"Dishes and silverware\", \"Dedicated workspace\", \"Fire extinguisher\", \"Clothing storage: walk-in closet, closet, and wardrobe\", \"Cleaning products\", \"Carbon monoxide alarm\", \"Housekeeping - available at extra cost\", \"Wifi\", \"Paid dryer \\u2013 In unit\"]"
        ],
        [
         "27",
         "697707083648815610",
         "[\"Hair dryer\", \"Room-darkening shades\", \"Elevator\", \"Bowling alley\", \"Central heating\", \"Private patio or balcony\", \"Rice maker\", \"Bathtub\", \"Bed linens\", \"EV charger\", \"Outdoor playground\", \"Smoke alarm\", \"Dishwasher\", \"Microwave\", \"Dining table\", \"Central air conditioning\", \"Wifi\", \"Wine glasses\", \"Baking sheet\", \"Lake access\", \"Exercise equipment: elliptical, free weights, stationary bike, treadmill, yoga mat, workout bench\", \"Lake view\", \"Pool table\", \"Shared beach access\", \"Cooking basics\", \"Hot water kettle\", \"Coffee\", \"Movie theater\", \"Extra pillows and blankets\", \"First aid kit\", \"Toaster\", \"Essentials\", \"Ping pong table\", \"Kitchen\", \"Shower gel\", \"Oven\", \"Blender\", \"36 inch HDTV with Netflix\", \"Paid parking on premises\", \"Hangers\", \"Drying rack for clothing\", \"Refrigerator\", \"Shared gym in building\", \"Paid parking lot off premises\", \"Free washer \\u2013 In unit\", \"Outdoor furniture\", \"Hot water\", \"Freezer\", \"Dishes and silverware\", \"Dedicated workspace\", \"Coffee maker: Nespresso\", \"Outdoor dining area\", \"Long term stays allowed\", \"Shared hot tub - available all year\", \"Electric stove\", \"Clothing storage: walk-in closet, closet, and dresser\", \"Cleaning products\", \"Carbon monoxide alarm\", \"BBQ grill\", \"Free dryer \\u2013 In unit\", \"Shared pool - available all year\"]"
        ],
        [
         "28",
         "698020867653764106",
         "[\"Hair dryer\", \"Central heating\", \"Shampoo\", \"Iron\", \"Body soap\", \"Bed linens\", \"Air conditioning\", \"Smoke alarm\", \"Microwave\", \"Dining table\", \"Wine glasses\", \"Free washer \\u2013 In building\", \"Cooking basics\", \"Hot water kettle\", \"Coffee\", \"Private entrance\", \"First aid kit\", \"Exterior security cameras on property\", \"Shared backyard \\u2013 Fully fenced\", \"Essentials\", \"Free street parking\", \"Kitchen\", \"Oven\", \"Coffee maker: drip coffee maker, french press\", \"Hangers\", \"50 inch HDTV with Netflix\", \"Drying rack for clothing\", \"Refrigerator\", \"Free driveway parking on premises \\u2013 1 space\", \"Smart lock\", \"Self check-in\", \"Conditioner\", \"Pets allowed\", \"Hot water\", \"Free dryer \\u2013 In building\", \"Freezer\", \"Dishes and silverware\", \"Dedicated workspace\", \"Fire extinguisher\", \"Outdoor dining area\", \"LG electric stove\", \"Long term stays allowed\", \"Clothing storage: closet\", \"Cleaning products\", \"Carbon monoxide alarm\", \"Wifi\"]"
        ],
        [
         "29",
         "698423617477839123",
         "[\"Hair dryer\", \"Heating\", \"Host greets you\", \"Iron\", \"Coffee maker\", \"Smoke alarm\", \"Central air conditioning\", \"Paid washer \\u2013 In building\", \"Exterior security cameras on property\", \"Kitchen\", \"Paid dryer \\u2013 In building\", \"Refrigerator\", \"City skyline view\", \"Bidet\", \"Dishes and silverware\", \"Dedicated workspace\", \"Crib\", \"Carbon monoxide alarm\", \"Wifi\", \"55 inch HDTV with Amazon Prime Video, Fire TV, Netflix, Roku\"]"
        ],
        [
         "30",
         "698503823240786040",
         "[\"Hair dryer\", \"Keypad\", \"Heating\", \"Iron\", \"Coffee maker\", \"Backyard\", \"Smoke alarm\", \"Central air conditioning\", \"First aid kit\", \"Kitchen\", \"Fast wifi \\u2013 616 Mbps\", \"Indoor fireplace: gas\", \"Refrigerator\", \"Free washer \\u2013 In unit\", \"Self check-in\", \"Free parking on premises\", \"Dishes and silverware\", \"Dedicated workspace\", \"Fire extinguisher\", \"Carbon monoxide alarm\", \"Free dryer \\u2013 In unit\"]"
        ],
        [
         "31",
         "698554262534243594",
         "[\"Hair dryer\", \"Room-darkening shades\", \"Cleaning available during stay\", \"Mini fridge\", \"Game console: PS4\", \"Central heating\", \"Dove shampoo\", \"Private patio or balcony\", \"Iron\", \"Harbor view\", \"Bathtub\", \"Bed linens\", \"Air conditioning\", \"Smoke alarm\", \"Dishwasher\", \"Microwave\", \"Books and reading material\", \"Baking sheet\", \"Wifi\", \"Wine glasses\", \"Lake access\", \"TV\", \"Laundromat nearby\", \"Lake view\", \"Cooking basics\", \"Hot water kettle\", \"Coffee\", \"Extra pillows and blankets\", \"Toaster\", \"Essentials\", \"Kitchen\", \"Shower gel\", \"Blender\", \"Hangers\", \"Refrigerator\", \"Stainless steel oven\", \"Lockbox\", \"Paid parking lot off premises\", \"Bluetooth sound system\", \"Dove conditioner\", \"Clothing storage: closet and dresser\", \"Self check-in\", \"Outdoor furniture\", \"Free parking on premises\", \"Marina view\", \"Fire pit\", \"Pets allowed\", \"Hot water\", \"City skyline view\", \"Bidet\", \"Washer\", \"Dishes and silverware\", \"Freezer\", \"Waterfront\", \"Fire extinguisher\", \"Outdoor dining area\", \"Electric stove\", \"Coffee maker: Keurig coffee machine\", \"Cleaning products\", \"Indoor fireplace\", \"Generic body soap\", \"Carbon monoxide alarm\", \"BBQ grill\", \"Free dryer \\u2013 In unit\"]"
        ],
        [
         "32",
         "698560297819694433",
         "[\"Hair dryer\", \"Keypad\", \"Ceiling fan\", \"Mini fridge\", \"Heating\", \"Shampoo\", \"Iron\", \"Body soap\", \"Bed linens\", \"Smoke alarm\", \"Garden view\", \"Books and reading material\", \"Central air conditioning\", \"HDTV with Netflix\", \"Microwave\", \"Wine glasses\", \"Dining table\", \"Hot water kettle\", \"Coffee\", \"Luggage dropoff allowed\", \"Private entrance\", \"First aid kit\", \"Toaster\", \"Essentials\", \"Shower gel\", \"Hangers\", \"Refrigerator\", \"Self check-in\", \"Free parking on premises\", \"Conditioner\", \"Hot water\", \"Dishes and silverware\", \"Fire extinguisher\", \"Coffee maker: Nespresso\", \"Outdoor dining area\", \"Clothing storage: closet\", \"Carbon monoxide alarm\", \"Wifi\"]"
        ],
        [
         "33",
         "698598711254687814",
         "[\"Hair dryer\", \"Room-darkening shades\", \"Keypad\", \"55 inch HDTV with Amazon Prime Video, Apple TV\", \"Mini fridge\", \"Central heating\", \"Shampoo\", \"Iron\", \"Body soap\", \"Bathtub\", \"Bed linens\", \"Air conditioning\", \"Stove\", \"Smoke alarm\", \"Microwave\", \"Books and reading material\", \"Baking sheet\", \"Dining table\", \"Wine glasses\", \"Coffee maker: french press\", \"Paid parking lot on premises\", \"Cooking basics\", \"Hot water kettle\", \"Coffee\", \"Luggage dropoff allowed\", \"Extra pillows and blankets\", \"First aid kit\", \"Toaster\", \"Essentials\", \"Portable fans\", \"Kitchen\", \"Shower gel\", \"Oven\", \"Hangers\", \"Refrigerator\", \"Self check-in\", \"Conditioner\", \"Pets allowed\", \"Hot water\", \"Free dryer \\u2013 In building\", \"Washer\", \"Freezer\", \"Dishes and silverware\", \"Dedicated workspace\", \"Paid parking off premises\", \"Fire extinguisher\", \"Long term stays allowed\", \"Clothing storage: closet\", \"Cleaning products\", \"Carbon monoxide alarm\", \"Housekeeping - available at extra cost\", \"Wifi\"]"
        ],
        [
         "34",
         "112842",
         "[\"Elevator\", \"Heating\", \"Essentials\", \"Air conditioning\", \"Kitchen\", \"Wifi\", \"Smoke alarm\", \"Gym\", \"Washer\", \"Hangers\", \"Dryer\"]"
        ],
        [
         "35",
         "119441",
         "[\"Hair dryer\", \"Heating\", \"Shampoo\", \"Private patio or balcony\", \"Iron\", \"Stove\", \"Coffee maker\", \"Smoke alarm\", \"Dishwasher\", \"Microwave\", \"Lake view\", \"Private entrance\", \"Exterior security cameras on property\", \"Essentials\", \"Kitchen\", \"Oven\", \"Free dryer \\u2013 In unit\", \"Hangers\", \"Refrigerator\", \"Lockbox\", \"Free washer \\u2013 In unit\", \"Self check-in\", \"Free parking on premises\", \"Marina view\", \"Hot water\", \"Dishes and silverware\", \"Dedicated workspace\", \"AC - split type ductless system\", \"Carbon monoxide alarm\", \"TV with standard cable\", \"Wifi\"]"
        ],
        [
         "36",
         "131401",
         "[\"Hair dryer\", \"Room-darkening shades\", \"Elevator\", \"Heating\", \"Ethernet connection\", \"Private patio or balcony\", \"Iron\", \"Stove\", \"Bathtub\", \"Bed linens\", \"Coffee maker\", \"Smoke alarm\", \"Dishwasher\", \"Microwave\", \"Dining table\", \"Central air conditioning\", \"Wifi\", \"Lake access\", \"Lake view\", \"Cooking basics\", \"Coffee\", \"Noise decibel monitors on property\", \"Exterior security cameras on property\", \"Toaster\", \"Essentials\", \"Kitchen\", \"Oven\", \"Hangers\", \"Drying rack for clothing\", \"Refrigerator\", \"Shared gym in building\", \"Free washer \\u2013 In unit\", \"Hot water\", \"City skyline view\", \"Freezer\", \"Waterfront\", \"Dishes and silverware\", \"Dedicated workspace\", \"Paid parking off premises\", \"Fire extinguisher\", \"Exercise equipment: elliptical, free weights, stationary bike, treadmill, yoga mat, workout bench, rowing\", \"Long term stays allowed\", \"Clothing storage: closet\", \"Cleaning products\", \"HDTV\", \"Carbon monoxide alarm\", \"Free dryer \\u2013 In unit\"]"
        ],
        [
         "37",
         "146601",
         "[\"Dedicated workspace\", \"Elevator\", \"Heating\", \"Air conditioning\", \"Kitchen\", \"Wifi\", \"Free parking on premises\", \"Gym\", \"Washer\", \"TV\", \"Dryer\"]"
        ],
        [
         "38",
         "153000",
         "[\"Hair dryer\", \"Whirlpool refrigerator\", \"Elevator\", \"Ethernet connection\", \"Central heating\", \"Shampoo\", \"Iron\", \"Bathtub\", \"Bed linens\", \"Smoke alarm\", \"Dishwasher\", \"Microwave\", \"Books and reading material\", \"Central air conditioning\", \"Board games\", \"Wifi\", \"Whirlpool electric stove\", \"Wine glasses\", \"Shared indoor pool - available all year, open specific hours\", \"Cooking basics\", \"Hot water kettle\", \"Private entrance\", \"Toaster\", \"Kitchen\", \"Shower gel\", \"Hangers\", \"Shared gym in building\", \"Smart lock\", \"Paid parking lot off premises\", \"Game console: PS5\", \"Free washer \\u2013 In unit\", \"Dove body soap\", \"Self check-in\", \"Pets allowed\", \"Hot water\", \"Free parking garage on premises \\u2013 2 spaces\", \"Dishes and silverware\", \"Dedicated workspace\", \"Whirlpool single oven\", \"Clothing storage: wardrobe\", \"Long term stays allowed\", \"Coffee maker: Keurig coffee machine\", \"HDTV with premium cable\", \"Free dryer \\u2013 In unit\"]"
        ],
        [
         "39",
         "154743",
         "[\"Hair dryer\", \"Room-darkening shades\", \"Elevator\", \"Clothing storage: walk-in closet and wardrobe\", \"Heating\", \"Ethernet connection\", \"Mosquito net\", \"Shampoo\", \"Private patio or balcony\", \"Host greets you\", \"Iron\", \"Stove\", \"Bed linens\", \"Air conditioning\", \"Smoke alarm\", \"Dishwasher\", \"Microwave\", \"Wine glasses\", \"Dryer\", \"Cooking basics\", \"Hot water kettle\", \"Paid parking garage off premises\", \"Extra pillows and blankets\", \"Toaster\", \"Essentials\", \"Kitchen\", \"Oven\", \"Hangers\", \"Drying rack for clothing\", \"Refrigerator\", \"Hot water\", \"Washer\", \"Dishes and silverware\", \"Dedicated workspace\", \"TV with Roku\", \"Coffee maker: Nespresso\", \"Carbon monoxide alarm\", \"BBQ grill\", \"Gym\", \"Wifi\"]"
        ],
        [
         "40",
         "184784",
         "[\"Hair dryer\", \"Elevator\", \"Heating\", \"Ethernet connection\", \"Shampoo\", \"Iron\", \"Bed linens\", \"Air conditioning\", \"Coffee maker\", \"Dryer\", \"Patio or balcony\", \"Private gym in building\", \"Extra pillows and blankets\", \"Essentials\", \"Kitchen\", \"Hangers\", \"Refrigerator\", \"Exercise equipment\", \"Shared pool\", \"Free parking on premises\", \"Hot water\", \"City skyline view\", \"Washer\", \"Shared hot tub\", \"TV with standard cable\", \"Wifi\"]"
        ],
        [
         "41",
         "186342",
         "[\"Hair dryer\", \"Heating\", \"Iron\", \"Stove\", \"Bed linens\", \"Air conditioning\", \"Backyard\", \"Smoke alarm\", \"Dishwasher\", \"Microwave\", \"TV\", \"Dryer\", \"Patio or balcony\", \"Clothing storage\", \"Cooking basics\", \"Private entrance\", \"Extra pillows and blankets\", \"Essentials\", \"Kitchen\", \"Oven\", \"Hangers\", \"Refrigerator\", \"Lockbox\", \"Self check-in\", \"Free parking on premises\", \"Hot water\", \"Washer\", \"Park view\", \"Long term stays allowed\", \"Indoor fireplace\", \"Carbon monoxide alarm\", \"BBQ grill\", \"Gym\", \"Wifi\"]"
        ],
        [
         "42",
         "698640908730015606",
         "[\"Hair dryer\", \"Room-darkening shades\", \"Central heating\", \"Dove shampoo\", \"Lock on bedroom door\", \"Iron\", \"Smoke alarm\", \"Microwave\", \"Dining table\", \"Central air conditioning\", \"Free washer \\u2013 In building\", \"Fast wifi \\u2013 267 Mbps\", \"Cooking basics\", \"Hot water kettle\", \"Hisense refrigerator\", \"Extra pillows and blankets\", \"Toaster\", \"Essentials\", \"Kitchen\", \"Shower gel\", \"Hangers\", \"Stainless steel oven\", \"Shared backyard \\u2013 Not fully fenced\", \"Smart lock\", \"Dove body soap\", \"Stainless steel stove\", \"Dove conditioner\", \"Self check-in\", \"Hot water\", \"Free dryer \\u2013 In building\", \"Dishes and silverware\", \"Dedicated workspace\", \"Courtyard view\", \"Fire extinguisher\", \"Free driveway parking on premises\", \"Outdoor dining area\", \"Clothing storage: closet\", \"Coffee maker: Keurig coffee machine\", \"Cleaning products\", \"Carbon monoxide alarm\"]"
        ],
        [
         "43",
         "698710795631230745",
         "[\"Hair dryer\", \"Room-darkening shades\", \"Elevator\", \"Central heating\", \"Shampoo\", \"Lock on bedroom door\", \"Private patio or balcony\", \"Iron\", \"Body soap\", \"Bed linens\", \"Theme room\", \"Air conditioning\", \"Coffee maker\", \"Smoke alarm\", \"Dishwasher\", \"Microwave\", \"Books and reading material\", \"Rice maker\", \"Board games\", \"Wifi\", \"Wine glasses\", \"TV\", \"Dining table\", \"Private gym in building\", \"Coffee\", \"Private entrance\", \"Extra pillows and blankets\", \"First aid kit\", \"Exterior security cameras on property\", \"Essentials\", \"Kitchen\", \"Shower gel\", \"Oven\", \"Blender\", \"Hangers\", \"Drying rack for clothing\", \"Refrigerator\", \"Building staff\", \"Exercise equipment\", \"Free parking garage on premises\", \"Clothing storage: closet and dresser\", \"Self check-in\", \"Outdoor furniture\", \"Conditioner\", \"Shared sauna\", \"Pets allowed\", \"Freezer\", \"Washer\", \"Sound system\", \"Dedicated workspace\", \"Dishes and silverware\", \"Fire extinguisher\", \"Outdoor dining area\", \"Long term stays allowed\", \"Electric stove\", \"Single level home\", \"Cleaning products\", \"Indoor fireplace\", \"Carbon monoxide alarm\", \"BBQ grill\", \"Free dryer \\u2013 In unit\"]"
        ],
        [
         "44",
         "698724537605460226",
         "[\"Hair dryer\", \"Room-darkening shades\", \"Central heating\", \"Shampoo\", \"Safe\", \"Lock on bedroom door\", \"Iron\", \"Body soap\", \"Bathtub\", \"Bed linens\", \"Single level home\", \"Smoke alarm\", \"Dishwasher\", \"Microwave\", \"Books and reading material\", \"Central air conditioning\", \"Dining table\", \"Wine glasses\", \"Laundromat nearby\", \"55 inch HDTV with Amazon Prime Video, Netflix\", \"Cooking basics\", \"Hot water kettle\", \"Coffee\", \"Luggage dropoff allowed\", \"Private entrance\", \"Extra pillows and blankets\", \"Essentials\", \"Kitchen\", \"Shower gel\", \"Oven\", \"Hangers\", \"Private living room\", \"Drying rack for clothing\", \"Refrigerator\", \"Lockbox\", \"Self check-in\", \"Conditioner\", \"Coffee maker: drip coffee maker\", \"Hot water\", \"Freezer\", \"Paid street parking off premises\", \"Pets allowed\", \"Sound system\", \"Dedicated workspace\", \"Dishes and silverware\", \"Portable heater\", \"Long term stays allowed\", \"Clothing storage: closet\", \"Electric stove\", \"Cleaning products\", \"Carbon monoxide alarm\", \"Free dryer \\u2013 In unit\", \"Fast wifi \\u2013 401 Mbps\"]"
        ],
        [
         "45",
         "699142886775251507",
         "[\"Hair dryer\", \"Ceiling fan\", \"Mini fridge\", \"Central heating\", \"Shampoo\", \"Lock on bedroom door\", \"Air conditioning\", \"Smoke alarm\", \"Microwave\", \"Luggage dropoff allowed\", \"Essentials\", \"Shower gel\", \"Free parking on premises\", \"Hot water\", \"Dedicated workspace\", \"Fire extinguisher\", \"Long term stays allowed\", \"Cleaning products\", \"Carbon monoxide alarm\", \"Wifi\"]"
        ],
        [
         "46",
         "699161891842885926",
         "[\"Hair dryer\", \"Room-darkening shades\", \"Keypad\", \"Elevator\", \"Central heating\", \"Shampoo\", \"Private patio or balcony\", \"Shared sauna\", \"Iron\", \"Harbor view\", \"Bathtub\", \"Body soap\", \"Bed linens\", \"EV charger\", \"Smoke alarm\", \"Dishwasher\", \"Microwave\", \"Dining table\", \"Central air conditioning\", \"Baking sheet\", \"Wine glasses\", \"Lake access\", \"Lake view\", \"50 inch HDTV\", \"Cooking basics\", \"Hot water kettle\", \"Coffee\", \"Stainless steel electric stove\", \"Extra pillows and blankets\", \"First aid kit\", \"Free residential garage on premises \\u2013 1 space\", \"Shared outdoor pool - available seasonally, open specific hours, rooftop\", \"Toaster\", \"Essentials\", \"Kitchen\", \"Shower gel\", \"Hangers\", \"Fast wifi \\u2013 261 Mbps\", \"Refrigerator\", \"Stainless steel oven\", \"Shared gym in building\", \"Exercise equipment: elliptical, free weights, stationary bike, treadmill, yoga mat\", \"Free washer \\u2013 In unit\", \"Self check-in\", \"Conditioner\", \"Coffee maker: drip coffee maker\", \"Hot water\", \"City skyline view\", \"Freezer\", \"Paid street parking off premises\", \"Dishes and silverware\", \"Fire extinguisher\", \"Long term stays allowed\", \"Clothing storage: closet\", \"Shared hot tub - available all year\", \"Barbecue utensils\", \"Cleaning products\", \"Carbon monoxide alarm\", \"Free dryer \\u2013 In unit\", \"Crib - always at the listing\", \"Shared BBQ grill: electric\"]"
        ],
        [
         "47",
         "699181409542465851",
         "[\"Hair dryer\", \"Room-darkening shades\", \"Whirlpool refrigerator\", \"Elevator\", \"Ethernet connection\", \"Central heating\", \"Private patio or balcony\", \"Shared sauna\", \"Iron\", \"Body soap\", \"Bathtub\", \"Bed linens\", \"Smoke alarm\", \"Dishwasher\", \"Microwave\", \"Dining table\", \"Central air conditioning\", \"Baking sheet\", \"Wine glasses\", \"Whirlpool stainless steel oven\", \"Shared indoor pool - available all year, open specific hours\", \"Cooking basics\", \"H&S shampoo\", \"Hot water kettle\", \"Coffee\", \"Extra pillows and blankets\", \"50 inch HDTV with Amazon Prime Video, Fire TV, Netflix\", \"Toaster\", \"Essentials\", \"Kitchen\", \"Shower gel\", \"Hangers\", \"Shared gym in building\", \"Lockbox\", \"Free washer \\u2013 In unit\", \"Exercise equipment\", \"Self check-in\", \"Outdoor furniture\", \"Free parking on premises\", \"Conditioner\", \"Hot water\", \"City skyline view\", \"Freezer\", \"Dishes and silverware\", \"Dedicated workspace\", \"Fast wifi \\u2013 510 Mbps\", \"Outdoor dining area\", \"Long term stays allowed\", \"Clothing storage: closet\", \"Coffee maker: Keurig coffee machine\", \"Cleaning products\", \"Private hot tub\", \"Carbon monoxide alarm\", \"BBQ grill\", \"Free dryer \\u2013 In unit\", \"Paid parking garage on premises \\u2013 1 space\"]"
        ],
        [
         "48",
         "699189464535498725",
         "[\"Hair dryer\", \"Keypad\", \"Central heating\", \"Shampoo\", \"Lock on bedroom door\", \"Iron\", \"Body soap\", \"Smoke alarm\", \"Dishwasher\", \"Microwave\", \"Dining table\", \"Central air conditioning\", \"Baking sheet\", \"Free washer \\u2013 In building\", \"Cooking basics\", \"Hot water kettle\", \"Coffee\", \"Exterior security cameras on property\", \"Toaster\", \"Essentials\", \"Clothing storage: dresser\", \"Kitchen\", \"Oven\", \"Hangers\", \"50 inch HDTV with Roku\", \"Refrigerator\", \"Self check-in\", \"Conditioner\", \"Hot water\", \"Free dryer \\u2013 In building\", \"Bidet\", \"Freezer\", \"Dishes and silverware\", \"Fire extinguisher\", \"Coffee maker: Nespresso\", \"Long term stays allowed\", \"Electric stove\", \"Cleaning products\", \"Carbon monoxide alarm\", \"Fast wifi \\u2013 523 Mbps\"]"
        ],
        [
         "49",
         "196584",
         "[\"Hair dryer\", \"Room-darkening shades\", \"Keypad\", \"Haier stainless steel single oven\", \"Iron\", \"Bathtub\", \"Bed linens\", \"Backyard\", \"Smoke alarm\", \"Microwave\", \"Dining table\", \"Baking sheet\", \"Laundromat nearby\", \"Wine glasses\", \"Free washer \\u2013 In building\", \"Radiant heating\", \"Cooking basics\", \"Hot water kettle\", \"Coffee\", \"Extra pillows and blankets\", \"First aid kit\", \"Exterior security cameras on property\", \"Coffee maker: espresso machine, french press\", \"Toaster\", \"LG refrigerator\", \"Essentials\", \"Portable fans\", \"Kitchen\", \"Free street parking\", \"Blender\", \"Hangers\", \"Drying rack for clothing\", \"GE stainless steel electric stove\", \"Dove body soap\", \"Clothing storage: closet and dresser\", \"Self check-in\", \"Outdoor furniture\", \"Hot water\", \"Free dryer \\u2013 In building\", \"Freezer\", \"Paid street parking off premises\", \"Dishes and silverware\", \"Dedicated workspace\", \"Fire extinguisher\", \"Outdoor dining area\", \"Long term stays allowed\", \"Cleaning products\", \"Fast wifi \\u2013 369 Mbps\", \"Carbon monoxide alarm\", \"43 inch HDTV with Fire TV, DVD player\"]"
        ]
       ],
       "shape": {
        "columns": 2,
        "rows": 15111
       }
      },
      "text/html": [
       "<div>\n",
       "<style scoped>\n",
       "    .dataframe tbody tr th:only-of-type {\n",
       "        vertical-align: middle;\n",
       "    }\n",
       "\n",
       "    .dataframe tbody tr th {\n",
       "        vertical-align: top;\n",
       "    }\n",
       "\n",
       "    .dataframe thead th {\n",
       "        text-align: right;\n",
       "    }\n",
       "</style>\n",
       "<table border=\"1\" class=\"dataframe\">\n",
       "  <thead>\n",
       "    <tr style=\"text-align: right;\">\n",
       "      <th></th>\n",
       "      <th>id</th>\n",
       "      <th>amenities</th>\n",
       "    </tr>\n",
       "  </thead>\n",
       "  <tbody>\n",
       "    <tr>\n",
       "      <th>0</th>\n",
       "      <td>696407278180533419</td>\n",
       "      <td>[\"Hair dryer\", \"Central heating\", \"Paid parkin...</td>\n",
       "    </tr>\n",
       "    <tr>\n",
       "      <th>1</th>\n",
       "      <td>696457318817239920</td>\n",
       "      <td>[\"Hair dryer\", \"Central heating\", \"Shampoo\", \"...</td>\n",
       "    </tr>\n",
       "    <tr>\n",
       "      <th>2</th>\n",
       "      <td>696460661218975906</td>\n",
       "      <td>[\"Hair dryer\", \"Central heating\", \"Shampoo\", \"...</td>\n",
       "    </tr>\n",
       "    <tr>\n",
       "      <th>3</th>\n",
       "      <td>696602542310304703</td>\n",
       "      <td>[\"Hair dryer\", \"Room-darkening shades\", \"Keypa...</td>\n",
       "    </tr>\n",
       "    <tr>\n",
       "      <th>4</th>\n",
       "      <td>696638535490228478</td>\n",
       "      <td>[\"Pool table\", \"Dedicated workspace\", \"Exercis...</td>\n",
       "    </tr>\n",
       "    <tr>\n",
       "      <th>...</th>\n",
       "      <td>...</td>\n",
       "      <td>...</td>\n",
       "    </tr>\n",
       "    <tr>\n",
       "      <th>15106</th>\n",
       "      <td>1366954101885217722</td>\n",
       "      <td>[\"Heating\", \"Shampoo\", \"Iron\", \"Body soap\", \"B...</td>\n",
       "    </tr>\n",
       "    <tr>\n",
       "      <th>15107</th>\n",
       "      <td>1366970333908472070</td>\n",
       "      <td>[\"Hair dryer\", \"Room-darkening shades\", \"Eleva...</td>\n",
       "    </tr>\n",
       "    <tr>\n",
       "      <th>15108</th>\n",
       "      <td>1366999672978459092</td>\n",
       "      <td>[\"Pool table\", \"Fire extinguisher\", \"Outdoor d...</td>\n",
       "    </tr>\n",
       "    <tr>\n",
       "      <th>15109</th>\n",
       "      <td>1367290343089381102</td>\n",
       "      <td>[\"Keypad\", \"Heating\", \"Iron\", \"Body soap\", \"Be...</td>\n",
       "    </tr>\n",
       "    <tr>\n",
       "      <th>15110</th>\n",
       "      <td>1367402901303182875</td>\n",
       "      <td>[\"Pool table\", \"Outdoor shower\", \"Dedicated wo...</td>\n",
       "    </tr>\n",
       "  </tbody>\n",
       "</table>\n",
       "<p>15111 rows × 2 columns</p>\n",
       "</div>"
      ],
      "text/plain": [
       "                        id                                          amenities\n",
       "0       696407278180533419  [\"Hair dryer\", \"Central heating\", \"Paid parkin...\n",
       "1       696457318817239920  [\"Hair dryer\", \"Central heating\", \"Shampoo\", \"...\n",
       "2       696460661218975906  [\"Hair dryer\", \"Central heating\", \"Shampoo\", \"...\n",
       "3       696602542310304703  [\"Hair dryer\", \"Room-darkening shades\", \"Keypa...\n",
       "4       696638535490228478  [\"Pool table\", \"Dedicated workspace\", \"Exercis...\n",
       "...                    ...                                                ...\n",
       "15106  1366954101885217722  [\"Heating\", \"Shampoo\", \"Iron\", \"Body soap\", \"B...\n",
       "15107  1366970333908472070  [\"Hair dryer\", \"Room-darkening shades\", \"Eleva...\n",
       "15108  1366999672978459092  [\"Pool table\", \"Fire extinguisher\", \"Outdoor d...\n",
       "15109  1367290343089381102  [\"Keypad\", \"Heating\", \"Iron\", \"Body soap\", \"Be...\n",
       "15110  1367402901303182875  [\"Pool table\", \"Outdoor shower\", \"Dedicated wo...\n",
       "\n",
       "[15111 rows x 2 columns]"
      ]
     },
     "execution_count": 2,
     "metadata": {},
     "output_type": "execute_result"
    }
   ],
   "source": [
    "# Filepath\n",
    "csv_filepath =  \"../../data/processed/cleaned_listings.csv\"\n",
    "\n",
    "# Read CSV\n",
    "listings_cleaned = pd.read_csv(csv_filepath)\n",
    "\n",
    "# Limit CSV\n",
    "listings_amenities = listings_cleaned[['id', 'amenities']].copy()\n",
    "\n",
    "# Display CSV\n",
    "listings_amenities"
   ]
  },
  {
   "cell_type": "markdown",
   "metadata": {},
   "source": [
    "### **Apply Abstract Syntax Tree**\n",
    "Allows the stringified list in amenities to be turned into a accessible list"
   ]
  },
  {
   "cell_type": "code",
   "execution_count": 3,
   "metadata": {},
   "outputs": [],
   "source": [
    "# Apply AST\n",
    "listings_amenities['amenities'] = listings_amenities['amenities'].apply(ast.literal_eval)"
   ]
  },
  {
   "cell_type": "markdown",
   "metadata": {},
   "source": [
    "### **Explode Dataset**"
   ]
  },
  {
   "cell_type": "code",
   "execution_count": 4,
   "metadata": {},
   "outputs": [
    {
     "data": {
      "application/vnd.microsoft.datawrangler.viewer.v0+json": {
       "columns": [
        {
         "name": "index",
         "rawType": "int64",
         "type": "integer"
        },
        {
         "name": "id",
         "rawType": "int64",
         "type": "integer"
        },
        {
         "name": "amenities",
         "rawType": "object",
         "type": "unknown"
        }
       ],
       "conversionMethod": "pd.DataFrame",
       "ref": "7f8790f1-f40e-412c-a9b9-dc3f8df67fd3",
       "rows": [
        [
         "0",
         "696407278180533419",
         "Hair dryer"
        ],
        [
         "0",
         "696407278180533419",
         "Central heating"
        ],
        [
         "0",
         "696407278180533419",
         "Paid parking garage on premises"
        ],
        [
         "0",
         "696407278180533419",
         "Shampoo"
        ],
        [
         "0",
         "696407278180533419",
         "Iron"
        ],
        [
         "0",
         "696407278180533419",
         "Microwave"
        ],
        [
         "0",
         "696407278180533419",
         "Central air conditioning"
        ],
        [
         "0",
         "696407278180533419",
         "TV"
        ],
        [
         "0",
         "696407278180533419",
         "Cooking basics"
        ],
        [
         "0",
         "696407278180533419",
         "Essentials"
        ],
        [
         "0",
         "696407278180533419",
         "Kitchen"
        ],
        [
         "0",
         "696407278180533419",
         "Free dryer – In unit"
        ],
        [
         "0",
         "696407278180533419",
         "Hangers"
        ],
        [
         "0",
         "696407278180533419",
         "Free washer – In unit"
        ],
        [
         "0",
         "696407278180533419",
         "Exercise equipment"
        ],
        [
         "0",
         "696407278180533419",
         "Freezer"
        ],
        [
         "0",
         "696407278180533419",
         "Dishes and silverware"
        ],
        [
         "0",
         "696407278180533419",
         "Cleaning products"
        ],
        [
         "0",
         "696407278180533419",
         "Wifi"
        ],
        [
         "1",
         "696457318817239920",
         "Hair dryer"
        ],
        [
         "1",
         "696457318817239920",
         "Central heating"
        ],
        [
         "1",
         "696457318817239920",
         "Shampoo"
        ],
        [
         "1",
         "696457318817239920",
         "Lock on bedroom door"
        ],
        [
         "1",
         "696457318817239920",
         "Stove"
        ],
        [
         "1",
         "696457318817239920",
         "Body soap"
        ],
        [
         "1",
         "696457318817239920",
         "Bed linens"
        ],
        [
         "1",
         "696457318817239920",
         "Smoke alarm"
        ],
        [
         "1",
         "696457318817239920",
         "Microwave"
        ],
        [
         "1",
         "696457318817239920",
         "Dining table"
        ],
        [
         "1",
         "696457318817239920",
         "Central air conditioning"
        ],
        [
         "1",
         "696457318817239920",
         "Cooking basics"
        ],
        [
         "1",
         "696457318817239920",
         "Hot water kettle"
        ],
        [
         "1",
         "696457318817239920",
         "Luggage dropoff allowed"
        ],
        [
         "1",
         "696457318817239920",
         "Toaster"
        ],
        [
         "1",
         "696457318817239920",
         "Essentials"
        ],
        [
         "1",
         "696457318817239920",
         "Portable fans"
        ],
        [
         "1",
         "696457318817239920",
         "Kitchen"
        ],
        [
         "1",
         "696457318817239920",
         "Shower gel"
        ],
        [
         "1",
         "696457318817239920",
         "Hangers"
        ],
        [
         "1",
         "696457318817239920",
         "Drying rack for clothing"
        ],
        [
         "1",
         "696457318817239920",
         "Refrigerator"
        ],
        [
         "1",
         "696457318817239920",
         "Lockbox"
        ],
        [
         "1",
         "696457318817239920",
         "Self check-in"
        ],
        [
         "1",
         "696457318817239920",
         "Hot water"
        ],
        [
         "1",
         "696457318817239920",
         "Freezer"
        ],
        [
         "1",
         "696457318817239920",
         "Dishes and silverware"
        ],
        [
         "1",
         "696457318817239920",
         "Dedicated workspace"
        ],
        [
         "1",
         "696457318817239920",
         "Fire extinguisher"
        ],
        [
         "1",
         "696457318817239920",
         "Cleaning products"
        ],
        [
         "1",
         "696457318817239920",
         "Carbon monoxide alarm"
        ]
       ],
       "shape": {
        "columns": 2,
        "rows": 557758
       }
      },
      "text/html": [
       "<div>\n",
       "<style scoped>\n",
       "    .dataframe tbody tr th:only-of-type {\n",
       "        vertical-align: middle;\n",
       "    }\n",
       "\n",
       "    .dataframe tbody tr th {\n",
       "        vertical-align: top;\n",
       "    }\n",
       "\n",
       "    .dataframe thead th {\n",
       "        text-align: right;\n",
       "    }\n",
       "</style>\n",
       "<table border=\"1\" class=\"dataframe\">\n",
       "  <thead>\n",
       "    <tr style=\"text-align: right;\">\n",
       "      <th></th>\n",
       "      <th>id</th>\n",
       "      <th>amenities</th>\n",
       "    </tr>\n",
       "  </thead>\n",
       "  <tbody>\n",
       "    <tr>\n",
       "      <th>0</th>\n",
       "      <td>696407278180533419</td>\n",
       "      <td>Hair dryer</td>\n",
       "    </tr>\n",
       "    <tr>\n",
       "      <th>0</th>\n",
       "      <td>696407278180533419</td>\n",
       "      <td>Central heating</td>\n",
       "    </tr>\n",
       "    <tr>\n",
       "      <th>0</th>\n",
       "      <td>696407278180533419</td>\n",
       "      <td>Paid parking garage on premises</td>\n",
       "    </tr>\n",
       "    <tr>\n",
       "      <th>0</th>\n",
       "      <td>696407278180533419</td>\n",
       "      <td>Shampoo</td>\n",
       "    </tr>\n",
       "    <tr>\n",
       "      <th>0</th>\n",
       "      <td>696407278180533419</td>\n",
       "      <td>Iron</td>\n",
       "    </tr>\n",
       "    <tr>\n",
       "      <th>...</th>\n",
       "      <td>...</td>\n",
       "      <td>...</td>\n",
       "    </tr>\n",
       "    <tr>\n",
       "      <th>15110</th>\n",
       "      <td>1367402901303182875</td>\n",
       "      <td>Fire pit</td>\n",
       "    </tr>\n",
       "    <tr>\n",
       "      <th>15110</th>\n",
       "      <td>1367402901303182875</td>\n",
       "      <td>BBQ grill</td>\n",
       "    </tr>\n",
       "    <tr>\n",
       "      <th>15110</th>\n",
       "      <td>1367402901303182875</td>\n",
       "      <td>Washer</td>\n",
       "    </tr>\n",
       "    <tr>\n",
       "      <th>15110</th>\n",
       "      <td>1367402901303182875</td>\n",
       "      <td>Pool</td>\n",
       "    </tr>\n",
       "    <tr>\n",
       "      <th>15110</th>\n",
       "      <td>1367402901303182875</td>\n",
       "      <td>TV</td>\n",
       "    </tr>\n",
       "  </tbody>\n",
       "</table>\n",
       "<p>557758 rows × 2 columns</p>\n",
       "</div>"
      ],
      "text/plain": [
       "                        id                        amenities\n",
       "0       696407278180533419                       Hair dryer\n",
       "0       696407278180533419                  Central heating\n",
       "0       696407278180533419  Paid parking garage on premises\n",
       "0       696407278180533419                          Shampoo\n",
       "0       696407278180533419                             Iron\n",
       "...                    ...                              ...\n",
       "15110  1367402901303182875                         Fire pit\n",
       "15110  1367402901303182875                        BBQ grill\n",
       "15110  1367402901303182875                           Washer\n",
       "15110  1367402901303182875                             Pool\n",
       "15110  1367402901303182875                               TV\n",
       "\n",
       "[557758 rows x 2 columns]"
      ]
     },
     "execution_count": 4,
     "metadata": {},
     "output_type": "execute_result"
    }
   ],
   "source": [
    "# Explode amenities Column\n",
    "exploded_amenities = listings_amenities.explode('amenities')\n",
    "\n",
    "# Display Exploded amenities\n",
    "exploded_amenities"
   ]
  },
  {
   "cell_type": "code",
   "execution_count": null,
   "metadata": {},
   "outputs": [],
   "source": [
    "# List of Amenities (to KEEP)\n",
    "basic_amenities = [\n",
    "    \"Smoke alarm\", \"Carbon monoxide alarm\", \"Hot water\", \"Heating\", \"Essentials\", \n",
    "    \"Bed linens\", \"Shampoo\", \"Shower gel\", \"Body soap\", \"Hangers\", \"Hair dryer\",\n",
    "    \"Conditioner\", \"Fire extinguisher\", \"Cleaning products\"\n",
    "]\n",
    "\n",
    "convenience_amenities = [\n",
    "    \"Wifi\", \"Kitchen\", \"Microwave\", \"Refrigerator\", \"Freezer\", \"Cooking basics\",\n",
    "    \"Stove\", \"Oven\", \"Iron\", \"Air conditioning\", \"TV\", \"Washer\", \"Dishwasher\",\n",
    "    \"Coffee maker\", \"Hot water kettle\", \"Self check-in\", \"Elevator\",\n",
    "    \"Dedicated workspace\", \"Room-darkening shades\", \"Free parking on premises\",\n",
    "    \"Dishes and silverware\", \"Dining table\", \"Toaster\", \"Extra pillows and blankets\",\n",
    "    \"First aid kit\", \"Wine glasses\", \"Bathtub\"\n",
    "]\n",
    "\n",
    "special_amenities = [\n",
    "    \"Hot tub\", \"Pool\", \"Private entrance\", \"BBQ grill\", \"Fire pit\",\n",
    "    \"Outdoor dining area\", \"Patio or balcony\", \"Gym\", \"Lake access\",\n",
    "    \"Indoor fireplace\", \"Sound system\", \"Game console\", \"EV charger\"\n",
    "]\n",
    "\n",
    "complete_amenities = basic_amenities + convenience_amenities + special_amenities"
   ]
  },
  {
   "cell_type": "code",
   "execution_count": 6,
   "metadata": {},
   "outputs": [],
   "source": [
    "# Standardized Amenities\n",
    "amenities_clean = []\n",
    "\n",
    "# Cycle and filter out the amenities on the lists above\n",
    "for index, row in exploded_amenities.iterrows():\n",
    "    if row['amenities'] not in complete_amenities:\n",
    "        amenities_clean.append(row)\n",
    "\n",
    "# Convert amenities_cleaned back into Dataframe\n",
    "amenities_cleaned = pd.DataFrame(amenities_clean)"
   ]
  },
  {
   "cell_type": "code",
   "execution_count": 9,
   "metadata": {},
   "outputs": [
    {
     "data": {
      "text/plain": [
       "amenities\n",
       "Dishes and silverware                    11548\n",
       "Fire extinguisher                         9219\n",
       "Cleaning products                         8268\n",
       "Long term stays allowed                   8171\n",
       "Dining table                              8133\n",
       "Freezer                                   7751\n",
       "Toaster                                   7602\n",
       "Extra pillows and blankets                7307\n",
       "First aid kit                             6984\n",
       "Shower gel                                6980\n",
       "Oven                                      6726\n",
       "Wine glasses                              6674\n",
       "Bathtub                                   6360\n",
       "Stove                                     6029\n",
       "Conditioner                               6016\n",
       "Coffee                                    5694\n",
       "Central heating                           5556\n",
       "Exterior security cameras on property     4809\n",
       "Free dryer – In unit                      4541\n",
       "Dryer                                     4369\n",
       "Name: count, dtype: int64"
      ]
     },
     "execution_count": 9,
     "metadata": {},
     "output_type": "execute_result"
    }
   ],
   "source": [
    "top_amenities = amenities_cleaned['amenities'].value_counts().head(20)\n",
    "\n",
    "top_amenities"
   ]
  }
 ],
 "metadata": {
  "kernelspec": {
   "display_name": "dev",
   "language": "python",
   "name": "python3"
  },
  "language_info": {
   "codemirror_mode": {
    "name": "ipython",
    "version": 3
   },
   "file_extension": ".py",
   "mimetype": "text/x-python",
   "name": "python",
   "nbconvert_exporter": "python",
   "pygments_lexer": "ipython3",
   "version": "3.10.15"
  }
 },
 "nbformat": 4,
 "nbformat_minor": 2
}
