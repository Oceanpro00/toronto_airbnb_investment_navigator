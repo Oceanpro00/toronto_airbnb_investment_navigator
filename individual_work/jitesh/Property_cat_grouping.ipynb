{
 "cells": [
  {
   "cell_type": "code",
   "execution_count": 3,
   "id": "f2a8ea42",
   "metadata": {},
   "outputs": [
    {
     "name": "stdout",
     "output_type": "stream",
     "text": [
      "Input file path: C:\\Users\\Jitesh Makan\\OneDrive\\Desktop\\UOFT _ Data _Science\\Project 4\\toronto_airbnb_pricing_assistant\\data\\processed\\cleaned_listings.csv\n",
      "Output file path: C:\\Users\\Jitesh Makan\\OneDrive\\Desktop\\UOFT _ Data _Science\\Project 4\\toronto_airbnb_pricing_assistant\\data\\processed\\updated_listings_prop_cat.csv\n",
      "✅ Data loaded successfully!\n"
     ]
    }
   ],
   "source": [
    "import os\n",
    "import pandas as pd\n",
    "from sklearn.preprocessing import LabelEncoder\n",
    "\n",
    "# Define absolute paths (use full path for now)\n",
    "input_path = r'C:\\Users\\Jitesh Makan\\OneDrive\\Desktop\\UOFT _ Data _Science\\Project 4\\toronto_airbnb_pricing_assistant\\data\\processed\\cleaned_listings.csv'\n",
    "output_path = r'C:\\Users\\Jitesh Makan\\OneDrive\\Desktop\\UOFT _ Data _Science\\Project 4\\toronto_airbnb_pricing_assistant\\data\\processed\\updated_listings_prop_cat.csv'\n",
    "\n",
    "# Verify that the paths are correct\n",
    "print(f\"Input file path: {input_path}\")\n",
    "print(f\"Output file path: {output_path}\")\n",
    "\n",
    "# Load the dataset\n",
    "df = pd.read_csv(input_path)\n",
    "print(\"✅ Data loaded successfully!\")\n",
    "\n",
    "\n",
    "\n",
    "# # Set the base directory once\n",
    "# base_dir = r\"C:\\Users\\Jitesh Makan\\OneDrive\\Desktop\\UOFT _ Data _Science\\Project 4\\toronto_airbnb_pricing_assistant\\data\\processed\"\n",
    "# # File names\n",
    "# input_filename = \"cleaned_listings.csv\"\n",
    "# output_filename = \"updated_listings_prop_cat.csv\"\n",
    "\n",
    "# # Construct full paths\n",
    "# input_path = os.path.join(base_dir, input_filename)\n",
    "# output_path = os.path.join(base_dir, output_filename)\n",
    "\n",
    "# # Load the dataset\n",
    "# df = pd.read_csv(input_path)"
   ]
  },
  {
   "cell_type": "code",
   "execution_count": 4,
   "id": "09a76141",
   "metadata": {},
   "outputs": [],
   "source": [
    "\n",
    "\n",
    "# Define the categorization function \n",
    "def categorize_property(property_type):\n",
    "    property_type = property_type.lower()\n",
    "    \n",
    "    # Group 1: Private Spaces\n",
    "    if any(x in property_type for x in ['private room']):\n",
    "        return 'Private Spaces'\n",
    "    \n",
    "    # Group 2: Entire Properties\n",
    "    elif any(x in property_type for x in ['entire condo', 'entire rental unit', 'entire townhouse', 'entire home', \n",
    "                                          'entire bungalow', 'entire guest suite', 'entire loft', 'entire serviced apartment', \n",
    "                                          'entire guesthouse', 'entire villa', 'entire cottage', 'entire vacation home', \n",
    "                                          'entire home/apt', 'entire cabin']):\n",
    "        return 'Entire Properties'\n",
    "    \n",
    "    # Group 3: Shared Spaces\n",
    "    elif any(x in property_type for x in ['shared room']):\n",
    "        return 'Shared Spaces'\n",
    "    \n",
    "    # Group 4: Unique and Experiential Stays\n",
    "    elif any(x in property_type for x in ['earthen home', 'farm stay', 'cave', 'island', 'boat', 'camper', 'rv', \n",
    "                                          'shipping container', 'castle', 'tower', 'tiny home', 'casa particular', \n",
    "                                          'room in boutique hotel']):\n",
    "        return 'Unique and Experiential Stays'\n",
    "    \n",
    "    # Group 5: Hotels and Similar\n",
    "    elif any(x in property_type for x in ['room in hotel', 'room in aparthotel']):\n",
    "        return 'Hotels and Similar'\n",
    "    \n",
    "    # Default case if no matches found\n",
    "    else:\n",
    "        return 'Other'\n",
    "\n",
    "\n",
    "\n"
   ]
  },
  {
   "cell_type": "code",
   "execution_count": 5,
   "id": "6ca9f52c",
   "metadata": {},
   "outputs": [],
   "source": [
    "# Apply the categorization\n",
    "df['standardized_property_type'] = df['property_type'].apply(categorize_property)\n",
    "\n"
   ]
  },
  {
   "cell_type": "code",
   "execution_count": 6,
   "id": "27c426cf",
   "metadata": {},
   "outputs": [],
   "source": [
    "# Apply categorization function to the DataFrame\n",
    "df['standardized_property_type'] = df['property_type'].apply(categorize_property)\n",
    "\n",
    "# Binary encoding for 'property_type', 'room_type', and 'standardized_property_type'\n",
    "# Initialize LabelEncoder for each column\n",
    "label_encoder = LabelEncoder()\n",
    "\n",
    "# Apply label encoding (binary encoding) to the three columns\n",
    "df['property_type_encoded'] = label_encoder.fit_transform(df['property_type'])\n",
    "df['room_type_encoded'] = label_encoder.fit_transform(df['room_type'])\n",
    "df['standardized_property_type_encoded'] = label_encoder.fit_transform(df['standardized_property_type'])\n"
   ]
  },
  {
   "cell_type": "code",
   "execution_count": 7,
   "id": "e0fc9227",
   "metadata": {},
   "outputs": [
    {
     "name": "stdout",
     "output_type": "stream",
     "text": [
      "✅ Updated listings file saved to:\n",
      "C:\\Users\\Jitesh Makan\\OneDrive\\Desktop\\UOFT _ Data _Science\\Project 4\\toronto_airbnb_pricing_assistant\\data\\processed\\updated_listings_prop_cat.csv\n"
     ]
    }
   ],
   "source": [
    "# Save the updated DataFrame to the same directory\n",
    "df.to_csv(output_path, index=False)\n",
    "\n",
    "print(f\"✅ Updated listings file saved to:\\n{output_path}\")"
   ]
  },
  {
   "cell_type": "code",
   "execution_count": null,
   "id": "4d28fe26",
   "metadata": {},
   "outputs": [],
   "source": []
  }
 ],
 "metadata": {
  "kernelspec": {
   "display_name": "dev",
   "language": "python",
   "name": "python3"
  },
  "language_info": {
   "codemirror_mode": {
    "name": "ipython",
    "version": 3
   },
   "file_extension": ".py",
   "mimetype": "text/x-python",
   "name": "python",
   "nbconvert_exporter": "python",
   "pygments_lexer": "ipython3",
   "version": "3.10.15"
  }
 },
 "nbformat": 4,
 "nbformat_minor": 5
}
